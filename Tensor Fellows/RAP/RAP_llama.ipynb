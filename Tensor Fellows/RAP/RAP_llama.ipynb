{
 "cells": [
  {
   "cell_type": "markdown",
   "id": "dbd5ffec90738522",
   "metadata": {
    "collapsed": false
   },
   "source": [
    "# LLM-Reasoners Demo\n",
    "\n",
    "This notebook is accompanied with our tutorial at SIGIR VF:\n",
    "[[slides](https://www.llm-reasoners.net/2024-02-Reasoners-SIGIR.pdf)]\n",
    "[[video](https://www.youtube.com/watch?v=d_x2pzEHGQY&pp=ygUJc2hpYm8gaGFv) (starting at 37:20)]\n",
    "\n",
    "## Setup\n",
    "Set cuda device and initialize an ExllamaModel use our unified LLM interface."
   ]
  },
  {
   "cell_type": "code",
   "execution_count": 1,
   "id": "97a9dc24f71ab121",
   "metadata": {
    "collapsed": false
   },
   "outputs": [],
   "source": [
    "import os\n",
    "\n",
    "from typing import NamedTuple\n",
    "import copy\n",
    "\n",
    "import numpy as np\n",
    "import torch\n",
    "\n",
    "from reasoners import WorldModel, LanguageModel, SearchConfig, State, Reasoner\n",
    "from reasoners.lm import ExLlamaModel\n",
    "from reasoners.algorithm import BeamSearch, MCTS\n",
    "import reasoners.benchmark.bw_utils as utils\n",
    "from reasoners.benchmark import BWEvaluator\n",
    "\n",
    "from process_query import process_query_data, load_json\n",
    "\n",
    "os.environ[\"CUDA_VISIBLE_DEVICES\"] = \"0\""
   ]
  },
  {
   "cell_type": "code",
   "execution_count": 2,
   "id": "1baf72f047599ea3",
   "metadata": {
    "collapsed": false
   },
   "outputs": [
    {
     "name": "stderr",
     "output_type": "stream",
     "text": [
      "/home/harsh/anaconda3/envs/reasoners/lib/python3.10/site-packages/torch/utils/cpp_extension.py:1964: UserWarning: TORCH_CUDA_ARCH_LIST is not set, all archs for visible cards are included for compilation. \n",
      "If this is not desired, please set os.environ['TORCH_CUDA_ARCH_LIST'].\n",
      "  warnings.warn(\n"
     ]
    },
    {
     "data": {
      "application/vnd.jupyter.widget-view+json": {
       "model_id": "4d7d962f9d014979a8a016e9ece4900a",
       "version_major": 2,
       "version_minor": 0
      },
      "text/plain": [
       "Fetching 13 files:   0%|          | 0/13 [00:00<?, ?it/s]"
      ]
     },
     "metadata": {},
     "output_type": "display_data"
    }
   ],
   "source": [
    "# https://huggingface.co/TheBloke/Llama-2-7B-Chat-GPTQ\n",
    "\n",
    "model = ExLlamaModel(\n",
    "    model_dir=\"TheBloke/Llama-2-7b-Chat-GPTQ\",\n",
    "    lora_dir=None,\n",
    "    device=torch.device(\"cuda:0\"),\n",
    "    max_batch_size=1,\n",
    "    max_new_tokens=200,\n",
    "    mem_map=[16, 22],  # For 2 * 24GB GPUs. If you have > 40GB you can set it to None\n",
    "    max_seq_length=2048,\n",
    ")\n",
    "\n",
    "# Or use any other model providers:\n",
    "\n",
    "# HFModel(llama_path, llama_path, device=device, max_batch_size=1, max_new_tokens=512, quantized=quantized, peft_pth=peft_path, load_awq_pth=load_awq_pth)\n",
    "# Llama3Model(llama2_ckpts, llama_size, max_batch_size=1)\n",
    "# OpenAIModel(openai_mode)\n",
    "# ClaudeModel('claude-3-opus-20240229')"
   ]
  },
  {
   "cell_type": "markdown",
   "id": "2093768cbd94dbee",
   "metadata": {
    "collapsed": false
   },
   "source": [
    "## RAP\n",
    "With [RAP](https://arxiv.org/abs/2305.14992), we are truly using the latest block configuration as the state, instead of a history of actions.\n",
    "Thus, we define a new world model to transit between states, which is just a little complex than the previous one."
   ]
  },
  {
   "cell_type": "code",
   "execution_count": 3,
   "id": "4db36c24eab92e95",
   "metadata": {
    "collapsed": false
   },
   "outputs": [],
   "source": [
    "BWAction = str\n",
    "\n",
    "\n",
    "class BWStateRAP(NamedTuple):\n",
    "    step_idx: int\n",
    "    last_blocks_state: str\n",
    "    blocks_state: str\n",
    "    buffered_action: BWAction\n",
    "\n",
    "\n",
    "class BlocksWorldModelRAP(WorldModel):\n",
    "    def __init__(self,\n",
    "                 base_model: LanguageModel,\n",
    "                 prompt: dict,\n",
    "                 max_steps: int = 4,\n",
    "                 batch_size: int = 1) -> None:\n",
    "        super().__init__()\n",
    "        self.max_steps = max_steps\n",
    "        self.base_model = base_model\n",
    "        self.prompt = prompt\n",
    "        self.batch_size = batch_size\n",
    "\n",
    "    def init_state(self) -> BWStateRAP:\n",
    "        return BWStateRAP(step_idx=0, last_blocks_state=\"\", blocks_state=utils.\n",
    "                       extract_init_state(self.example), buffered_action=\"\")\n",
    "\n",
    "    def step(self, state: BWStateRAP, action: BWAction) -> tuple[BWStateRAP, dict]:\n",
    "        state = copy.deepcopy(state)\n",
    "        blocks_state = state.blocks_state\n",
    "        step_idx = state.step_idx\n",
    "        blocks_state = self.update_blocks(blocks_state, action)\n",
    "        new_buffered_action = action if state.buffered_action == \"\" else \"\"\n",
    "\n",
    "        state = BWStateRAP(step_idx=step_idx + 1,\n",
    "                        last_blocks_state=state.blocks_state,\n",
    "                        blocks_state=blocks_state,\n",
    "                        buffered_action=new_buffered_action)\n",
    "        return state, {\"goal_reached\": utils.goal_check(utils.extract_goals(self.example), blocks_state)}\n",
    "\n",
    "    def update_blocks(self, block_states: str, action: BWAction) -> str:\n",
    "        if \"pick\" in action:\n",
    "            key = \"world_update_pickup\"\n",
    "        elif \"unstack\" in action:\n",
    "            key = \"world_update_unstack\"\n",
    "        elif \"put\" in action:\n",
    "            key = \"world_update_putdown\"\n",
    "        elif \"stack\" in action:\n",
    "            key = \"world_update_stack\"\n",
    "        else:\n",
    "            raise ValueError(\"Invalid action\")\n",
    "        world_update_prompt = self.prompt[key].format(block_states, action.capitalize() + \".\")\n",
    "        world_output = self.base_model.generate([world_update_prompt],\n",
    "                                                eos_token_id=\"\\n\",\n",
    "                                                hide_input=True,\n",
    "                                                temperature=0).text[0].strip()\n",
    "        new_state = utils.apply_change(world_output, block_states)\n",
    "        return new_state\n",
    "\n",
    "    def is_terminal(self, state: BWStateRAP) -> bool:\n",
    "        if utils.goal_check(utils.extract_goals(self.example), state.blocks_state)[0]:\n",
    "            return True\n",
    "        elif state.step_idx == self.max_steps:\n",
    "            return True\n",
    "        return False"
   ]
  },
  {
   "cell_type": "code",
   "execution_count": null,
   "id": "884e9c962952d37b",
   "metadata": {
    "collapsed": false
   },
   "outputs": [],
   "source": [
    "class BWConfigRAP(SearchConfig):\n",
    "    def __init__(self,\n",
    "                 base_model: LanguageModel,\n",
    "                 prompt: dict,\n",
    "                 batch_size: int = 1,\n",
    "                 reward_alpha: float = 0.5,\n",
    "                 goal_reward_default: float = 0.,\n",
    "                 goal_reached_reward: float = 100.) -> None:\n",
    "        super().__init__()\n",
    "        self.base_model = base_model\n",
    "        self.example = None\n",
    "        self.prompt = prompt\n",
    "        self.batch_size = batch_size\n",
    "        self.reward_alpha = reward_alpha\n",
    "        self.goal_reward_default = goal_reward_default\n",
    "        self.goal_reached_reward = goal_reached_reward\n",
    "\n",
    "    def get_actions(self, state: BWStateRAP) -> list[BWAction]:\n",
    "        blocks_state = state.blocks_state\n",
    "        return utils.generate_all_actions(blocks_state)\n",
    "\n",
    "    def fast_reward(self, state: BWStateRAP, action: BWAction) -> tuple[float, dict]:\n",
    "        if state.buffered_action == \"\":\n",
    "            current_blocks_state = state.blocks_state\n",
    "        else:\n",
    "            current_blocks_state = state.last_blocks_state\n",
    "        previous_action = state.buffered_action + \"\\n\" if state.buffered_action != \"\" else \"\"\n",
    "        \n",
    "        # every two steps, we will also reduce the icl examples by 2 steps\n",
    "        # so that the distribution of step length in examples is more reasonable\n",
    "        icl_template = self.prompt[\"icl_list\"][state.step_idx // 2]\n",
    "        \n",
    "        inputs = (icl_template.replace(\"<init_state>\", current_blocks_state)\n",
    "                              .replace(\"<goals>\", utils.extract_goals(self.example, return_raw=True))\n",
    "                              .replace(\"<action>\", previous_action))\n",
    "        intuition = self.base_model.get_loglikelihood(inputs, [inputs + action])[0]\n",
    "\n",
    "        self_eval_prompt = (self.prompt[\"self-eval\"]\n",
    "                                .replace(\"<init_state>\", current_blocks_state)\n",
    "                                .replace(\"<goals>\", utils.extract_goals(self.example, return_raw=True))\n",
    "                                .replace(\"<action>\", action))\n",
    "        self_eval = self.base_model.get_loglikelihood(self_eval_prompt, [self_eval_prompt + \"good\"])[0]\n",
    "\n",
    "        return (self.calculate_reward(intuition, self_eval),\n",
    "                {'intuition': intuition, \"self_eval\": self_eval})\n",
    "\n",
    "    def calculate_reward(self, intuition, self_eval, goal_reached=None) -> float:\n",
    "        # to provide a unified interface for reward and fast_reward\n",
    "        if goal_reached is None:\n",
    "            goal_reward = self.goal_reward_default\n",
    "        elif goal_reached[0]:\n",
    "            goal_reward = self.goal_reached_reward\n",
    "        else:\n",
    "            goal_reward = goal_reached[1]\n",
    "        return (intuition + self_eval) * self.reward_alpha + goal_reward * (1 - self.reward_alpha)\n",
    "\n",
    "    def reward(self, state: BWStateRAP, action: BWAction,\n",
    "               intuition: float = None,\n",
    "               self_eval: float = None,\n",
    "               goal_reached: tuple[bool, float] = None) -> tuple[float, dict]:\n",
    "        return (self.calculate_reward(intuition, self_eval, goal_reached),\n",
    "                {'intuition': intuition, 'goal_reached': goal_reached})"
   ]
  },
  {
   "cell_type": "markdown",
   "id": "28a97d5bdf453a8e",
   "metadata": {
    "collapsed": false
   },
   "source": [
    "We just use the MCTS algorithm embedded in Reasoners, and build up the pipeline again.\n",
    "Note: the following command may take 2 minutes to run"
   ]
  },
  {
   "cell_type": "code",
   "execution_count": 5,
   "id": "4425fd49",
   "metadata": {},
   "outputs": [],
   "source": [
    "prompt = load_json(\"./examples/CoT/blocksworld/prompts/pool_prompt_v0.json\")\n",
    "\n",
    "evaluator = BWEvaluator(\n",
    "    config_file=\"./examples/CoT/blocksworld/data/bw_config.yaml\",\n",
    "    domain_file=\"./examples/CoT/blocksworld/data/generated_domain.pddl\",\n",
    "    data_path=\"./examples/CoT/blocksworld/data/split_v1/split_v1_step_4_data.json\",\n",
    "    init_prompt=prompt,\n",
    ")\n",
    "\n",
    "prompt = evaluator.sample_prompt(shuffle_prompt=False, num_shot=4)"
   ]
  },
  {
   "cell_type": "markdown",
   "id": "43dc08c3",
   "metadata": {},
   "source": [
    "We gather one example from the Blocksworld dataset, and the proper prompt for in-context learning examples.\n",
    "We will talk more about Evaluators later."
   ]
  },
  {
   "cell_type": "markdown",
   "id": "146110b0",
   "metadata": {},
   "source": [
    "Here is the example."
   ]
  },
  {
   "cell_type": "code",
   "execution_count": 6,
   "id": "6c66030e",
   "metadata": {},
   "outputs": [
    {
     "data": {
      "text/plain": [
       "({'init': 'the red block is clear, the yellow block is clear, the hand is empty, the red block is on top of the blue block, the yellow block is on top of the orange block, the blue block is on the table and the orange block is on the table',\n",
       "  'goal': 'the orange block is on top of the red block',\n",
       "  'question': '\\n[STATEMENT]\\nAs initial conditions I have that, the red block is clear, the yellow block is clear, the hand is empty, the red block is on top of the blue block, the yellow block is on top of the orange block, the blue block is on the table and the orange block is on the table.\\nMy goal is to have that the orange block is on top of the red block.\\n\\nMy plan is as follows:\\n\\n[PLAN]'},\n",
       " ['unstack yellow orange',\n",
       "  'put-down yellow',\n",
       "  'pick-up orange',\n",
       "  'stack orange red'])"
      ]
     },
     "execution_count": 6,
     "metadata": {},
     "output_type": "execute_result"
    }
   ],
   "source": [
    "queries = load_json('./blocksworld.jsonl')\n",
    "example_prompt, ground_truth_action_list = process_query_data(queries[0])\n",
    "example_prompt, ground_truth_action_list"
   ]
  },
  {
   "cell_type": "code",
   "execution_count": 7,
   "id": "12ecfc79",
   "metadata": {},
   "outputs": [],
   "source": [
    "# example_prompt, ground_truth_action_list = process_query_data(queries[1])\n",
    "# example_prompt, ground_truth_action_list"
   ]
  },
  {
   "cell_type": "code",
   "execution_count": 8,
   "id": "70e0d64c166c5ccc",
   "metadata": {
    "collapsed": false
   },
   "outputs": [],
   "source": [
    "world_model = BlocksWorldModelRAP(base_model=model, prompt=prompt, max_steps=4)\n",
    "config = BWConfigRAP(base_model=model, prompt=prompt)\n",
    "\n",
    "algorithm = MCTS(depth_limit=4, disable_tqdm=False, output_trace_in_each_iter=True, n_iters=10)\n",
    "\n",
    "reasoner_rap = Reasoner(world_model=world_model, search_config=config, search_algo=algorithm)"
   ]
  },
  {
   "cell_type": "markdown",
   "id": "0d7ed152",
   "metadata": {},
   "source": [
    "# Comparing tree traced plan and ground-truth plan"
   ]
  },
  {
   "cell_type": "code",
   "execution_count": null,
   "id": "f9e55a04",
   "metadata": {},
   "outputs": [
    {
     "name": "stderr",
     "output_type": "stream",
     "text": [
      "MCTS iteration:   0%|          | 0/10 [00:00<?, ?it/s]"
     ]
    }
   ],
   "source": [
    "result_rap = reasoner_rap(example_prompt)\n",
    "result_rap.trace[1], ground_truth_action_list"
   ]
  },
  {
   "cell_type": "markdown",
   "id": "3036a78e95ef7ce8",
   "metadata": {
    "collapsed": false
   },
   "source": [
    "# Calculating RAP trace for all the queries"
   ]
  },
  {
   "cell_type": "code",
   "execution_count": 11,
   "id": "ca7d28e2",
   "metadata": {},
   "outputs": [],
   "source": [
    "import json"
   ]
  },
  {
   "cell_type": "code",
   "execution_count": null,
   "id": "f788b6a8",
   "metadata": {},
   "outputs": [
    {
     "name": "stdout",
     "output_type": "stream",
     "text": [
      "Query number: 0 started\n"
     ]
    },
    {
     "name": "stderr",
     "output_type": "stream",
     "text": [
      "                                                              \r"
     ]
    },
    {
     "name": "stdout",
     "output_type": "stream",
     "text": [
      "Query number: 0 ended\n",
      "Query number: 1 started\n"
     ]
    },
    {
     "name": "stderr",
     "output_type": "stream",
     "text": [
      "                                                      \r"
     ]
    },
    {
     "name": "stdout",
     "output_type": "stream",
     "text": [
      "Error: no successful change\n",
      "the orange block is no longer clear\n",
      "['the blue block is clear', 'the hand is holding the blue block', 'the blue block is in the hand', 'the orange block is on top of the yellow block', 'the yellow block is on top of the red block', 'the red block is on the table']\n",
      "Error in query 1: ERROR\n",
      "Query number: 1 ended\n",
      "Query number: 2 started\n"
     ]
    },
    {
     "name": "stderr",
     "output_type": "stream",
     "text": [
      "                                                              \r"
     ]
    },
    {
     "name": "stdout",
     "output_type": "stream",
     "text": [
      "Query number: 2 ended\n",
      "Query number: 3 started\n"
     ]
    },
    {
     "name": "stderr",
     "output_type": "stream",
     "text": [
      "                                                              \r"
     ]
    },
    {
     "name": "stdout",
     "output_type": "stream",
     "text": [
      "Query number: 3 ended\n",
      "Query number: 4 started\n"
     ]
    },
    {
     "name": "stderr",
     "output_type": "stream",
     "text": [
      "                                                              \r"
     ]
    },
    {
     "name": "stdout",
     "output_type": "stream",
     "text": [
      "Query number: 4 ended\n",
      "Query number: 5 started\n"
     ]
    },
    {
     "name": "stderr",
     "output_type": "stream",
     "text": [
      "                                                      \r"
     ]
    },
    {
     "name": "stdout",
     "output_type": "stream",
     "text": [
      "Error: no successful change\n",
      "the yellow block is no longer clear\n",
      "['the red block is clear', 'the hand is holding the red block', 'the red block is in the hand', 'the blue block is on top of the orange block', 'the yellow block is on top of the blue block', 'the orange block is on the table']\n",
      "Error in query 5: ERROR\n",
      "Query number: 5 ended\n",
      "Query number: 6 started\n"
     ]
    },
    {
     "name": "stderr",
     "output_type": "stream",
     "text": [
      "                                                              \r"
     ]
    },
    {
     "name": "stdout",
     "output_type": "stream",
     "text": [
      "Query number: 6 ended\n",
      "Query number: 7 started\n"
     ]
    },
    {
     "name": "stderr",
     "output_type": "stream",
     "text": [
      "                                                              \r"
     ]
    },
    {
     "name": "stdout",
     "output_type": "stream",
     "text": [
      "Error: no successful change\n",
      "the orange block is no longer clear\n",
      "['the blue block is clear', 'the hand is holding the blue block', 'the blue block is in the hand', 'the orange block is on top of the yellow block', 'the yellow block is on top of the red block', 'the red block is on the table']\n",
      "Error in query 7: ERROR\n",
      "Query number: 7 ended\n",
      "Query number: 8 started\n"
     ]
    },
    {
     "name": "stderr",
     "output_type": "stream",
     "text": [
      "                                                              \r"
     ]
    },
    {
     "name": "stdout",
     "output_type": "stream",
     "text": [
      "Query number: 8 ended\n",
      "Query number: 9 started\n"
     ]
    },
    {
     "name": "stderr",
     "output_type": "stream",
     "text": [
      "                                                              \r"
     ]
    },
    {
     "name": "stdout",
     "output_type": "stream",
     "text": [
      "Query number: 9 ended\n",
      "Query number: 10 started\n"
     ]
    },
    {
     "name": "stderr",
     "output_type": "stream",
     "text": [
      "                                                              \r"
     ]
    },
    {
     "name": "stdout",
     "output_type": "stream",
     "text": [
      "Query number: 10 ended\n",
      "Query number: 11 started\n"
     ]
    },
    {
     "name": "stderr",
     "output_type": "stream",
     "text": [
      "                                                              \r"
     ]
    },
    {
     "name": "stdout",
     "output_type": "stream",
     "text": [
      "Query number: 11 ended\n",
      "Query number: 12 started\n"
     ]
    },
    {
     "name": "stderr",
     "output_type": "stream",
     "text": [
      "                                                              \r"
     ]
    },
    {
     "name": "stdout",
     "output_type": "stream",
     "text": [
      "Query number: 12 ended\n",
      "Query number: 13 started\n"
     ]
    },
    {
     "name": "stderr",
     "output_type": "stream",
     "text": [
      "                                                              \r"
     ]
    },
    {
     "name": "stdout",
     "output_type": "stream",
     "text": [
      "Query number: 13 ended\n",
      "Query number: 14 started\n"
     ]
    },
    {
     "name": "stderr",
     "output_type": "stream",
     "text": [
      "                                                              \r"
     ]
    },
    {
     "name": "stdout",
     "output_type": "stream",
     "text": [
      "Query number: 14 ended\n",
      "Query number: 15 started\n"
     ]
    },
    {
     "name": "stderr",
     "output_type": "stream",
     "text": [
      "                                                              \r"
     ]
    },
    {
     "name": "stdout",
     "output_type": "stream",
     "text": [
      "Query number: 15 ended\n",
      "Query number: 16 started\n"
     ]
    },
    {
     "name": "stderr",
     "output_type": "stream",
     "text": [
      "                                                              \r"
     ]
    },
    {
     "name": "stdout",
     "output_type": "stream",
     "text": [
      "Query number: 16 ended\n",
      "Query number: 17 started\n"
     ]
    },
    {
     "name": "stderr",
     "output_type": "stream",
     "text": [
      "                                                              \r"
     ]
    },
    {
     "name": "stdout",
     "output_type": "stream",
     "text": [
      "Error: no successful change\n",
      "the orange block is no longer clear\n",
      "['the blue block is clear', 'the hand is holding the blue block', 'the blue block is in the hand', 'the orange block is on top of the red block', 'the red block is on top of the yellow block', 'the yellow block is on the table']\n",
      "Error in query 17: ERROR\n",
      "Query number: 17 ended\n",
      "Query number: 18 started\n"
     ]
    },
    {
     "name": "stderr",
     "output_type": "stream",
     "text": [
      "                                                              \r"
     ]
    },
    {
     "name": "stdout",
     "output_type": "stream",
     "text": [
      "Query number: 18 ended\n",
      "Query number: 19 started\n"
     ]
    },
    {
     "name": "stderr",
     "output_type": "stream",
     "text": [
      "                                                              \r"
     ]
    },
    {
     "name": "stdout",
     "output_type": "stream",
     "text": [
      "Query number: 19 ended\n",
      "Query number: 20 started\n"
     ]
    },
    {
     "name": "stderr",
     "output_type": "stream",
     "text": [
      "                                                      \r"
     ]
    },
    {
     "name": "stdout",
     "output_type": "stream",
     "text": [
      "Error: no successful change\n",
      "the yellow block is no longer clear\n",
      "['the blue block is clear', 'the hand is holding the blue block', 'the blue block is in the hand', 'the orange block is on top of the red block', 'the yellow block is on top of the orange block', 'the red block is on the table']\n",
      "Error in query 20: ERROR\n",
      "Query number: 20 ended\n",
      "Query number: 21 started\n"
     ]
    },
    {
     "name": "stderr",
     "output_type": "stream",
     "text": [
      "                                                              \r"
     ]
    },
    {
     "name": "stdout",
     "output_type": "stream",
     "text": [
      "Query number: 21 ended\n",
      "Query number: 22 started\n"
     ]
    },
    {
     "name": "stderr",
     "output_type": "stream",
     "text": [
      "                                                              \r"
     ]
    },
    {
     "name": "stdout",
     "output_type": "stream",
     "text": [
      "Query number: 22 ended\n",
      "Query number: 23 started\n"
     ]
    },
    {
     "name": "stderr",
     "output_type": "stream",
     "text": [
      "                                                              \r"
     ]
    },
    {
     "name": "stdout",
     "output_type": "stream",
     "text": [
      "Query number: 23 ended\n",
      "Query number: 24 started\n"
     ]
    },
    {
     "name": "stderr",
     "output_type": "stream",
     "text": [
      "                                                              \r"
     ]
    },
    {
     "name": "stdout",
     "output_type": "stream",
     "text": [
      "Query number: 24 ended\n",
      "Query number: 25 started\n"
     ]
    },
    {
     "name": "stderr",
     "output_type": "stream",
     "text": [
      "                                                              \r"
     ]
    },
    {
     "name": "stdout",
     "output_type": "stream",
     "text": [
      "Query number: 25 ended\n",
      "Query number: 26 started\n"
     ]
    },
    {
     "name": "stderr",
     "output_type": "stream",
     "text": [
      "                                                              \r"
     ]
    },
    {
     "name": "stdout",
     "output_type": "stream",
     "text": [
      "Query number: 26 ended\n",
      "Query number: 27 started\n"
     ]
    },
    {
     "name": "stderr",
     "output_type": "stream",
     "text": [
      "                                                              \r"
     ]
    },
    {
     "name": "stdout",
     "output_type": "stream",
     "text": [
      "Query number: 27 ended\n",
      "Query number: 28 started\n"
     ]
    },
    {
     "name": "stderr",
     "output_type": "stream",
     "text": [
      "                                                              \r"
     ]
    },
    {
     "name": "stdout",
     "output_type": "stream",
     "text": [
      "Query number: 28 ended\n",
      "Query number: 29 started\n"
     ]
    },
    {
     "name": "stderr",
     "output_type": "stream",
     "text": [
      "                                                              \r"
     ]
    },
    {
     "name": "stdout",
     "output_type": "stream",
     "text": [
      "Query number: 29 ended\n",
      "Query number: 30 started\n"
     ]
    },
    {
     "name": "stderr",
     "output_type": "stream",
     "text": [
      "                                                              \r"
     ]
    },
    {
     "name": "stdout",
     "output_type": "stream",
     "text": [
      "Query number: 30 ended\n",
      "Query number: 31 started\n"
     ]
    },
    {
     "name": "stderr",
     "output_type": "stream",
     "text": [
      "                                                              \r"
     ]
    },
    {
     "name": "stdout",
     "output_type": "stream",
     "text": [
      "Query number: 31 ended\n",
      "Query number: 32 started\n"
     ]
    },
    {
     "name": "stderr",
     "output_type": "stream",
     "text": [
      "                                                              \r"
     ]
    },
    {
     "name": "stdout",
     "output_type": "stream",
     "text": [
      "Query number: 32 ended\n",
      "Query number: 33 started\n"
     ]
    },
    {
     "name": "stderr",
     "output_type": "stream",
     "text": [
      "                                                              \r"
     ]
    },
    {
     "name": "stdout",
     "output_type": "stream",
     "text": [
      "Query number: 33 ended\n",
      "Query number: 34 started\n"
     ]
    },
    {
     "name": "stderr",
     "output_type": "stream",
     "text": [
      "                                                      \r"
     ]
    },
    {
     "name": "stdout",
     "output_type": "stream",
     "text": [
      "Error: no successful change\n",
      "the yellow block is no longer clear\n",
      "['the red block is clear', 'the blue block is clear', 'the hand is holding the blue block', 'the blue block is in the hand', 'the yellow block is on top of the orange block', 'the red block is on the table', 'the orange block is on the table']\n",
      "Error in query 34: ERROR\n",
      "Query number: 34 ended\n",
      "Query number: 35 started\n"
     ]
    },
    {
     "name": "stderr",
     "output_type": "stream",
     "text": [
      "                                                              \r"
     ]
    },
    {
     "name": "stdout",
     "output_type": "stream",
     "text": [
      "Query number: 35 ended\n",
      "Query number: 36 started\n"
     ]
    },
    {
     "name": "stderr",
     "output_type": "stream",
     "text": [
      "                                                      \r"
     ]
    },
    {
     "name": "stdout",
     "output_type": "stream",
     "text": [
      "Error: no successful change\n",
      "the yellow block is no longer clear\n",
      "['the red block is clear', 'the hand is holding the red block', 'the red block is in the hand', 'the blue block is on top of the orange block', 'the yellow block is on top of the blue block', 'the orange block is on the table']\n",
      "Error in query 36: ERROR\n",
      "Query number: 36 ended\n",
      "Query number: 37 started\n"
     ]
    },
    {
     "name": "stderr",
     "output_type": "stream",
     "text": [
      "                                                      \r"
     ]
    },
    {
     "name": "stdout",
     "output_type": "stream",
     "text": [
      "Error: no successful change\n",
      "the yellow block is no longer clear\n",
      "['the red block is clear', 'the hand is holding the red block', 'the orange block is on top of the blue block', 'the red block is in the hand', 'the yellow block is on top of the orange block', 'the blue block is on the table']\n",
      "Error in query 37: ERROR\n",
      "Query number: 37 ended\n",
      "Query number: 38 started\n"
     ]
    },
    {
     "name": "stderr",
     "output_type": "stream",
     "text": [
      "                                                              \r"
     ]
    },
    {
     "name": "stdout",
     "output_type": "stream",
     "text": [
      "Query number: 38 ended\n",
      "Query number: 39 started\n"
     ]
    },
    {
     "name": "stderr",
     "output_type": "stream",
     "text": [
      "                                                              \r"
     ]
    },
    {
     "name": "stdout",
     "output_type": "stream",
     "text": [
      "Query number: 39 ended\n",
      "Query number: 40 started\n"
     ]
    },
    {
     "name": "stderr",
     "output_type": "stream",
     "text": [
      "                                                              \r"
     ]
    },
    {
     "name": "stdout",
     "output_type": "stream",
     "text": [
      "Query number: 40 ended\n",
      "Query number: 41 started\n"
     ]
    },
    {
     "name": "stderr",
     "output_type": "stream",
     "text": [
      "                                                              \r"
     ]
    },
    {
     "name": "stdout",
     "output_type": "stream",
     "text": [
      "Query number: 41 ended\n",
      "Query number: 42 started\n"
     ]
    },
    {
     "name": "stderr",
     "output_type": "stream",
     "text": [
      "                                                      \r"
     ]
    },
    {
     "name": "stdout",
     "output_type": "stream",
     "text": [
      "Error: no successful change\n",
      "the orange block is no longer clear\n",
      "['the red block is clear', 'the hand is holding the red block', 'the red block is in the hand', 'the blue block is on top of the yellow block', 'the orange block is on top of the blue block', 'the yellow block is on the table']\n",
      "Error in query 42: ERROR\n",
      "Query number: 42 ended\n",
      "Query number: 43 started\n"
     ]
    },
    {
     "name": "stderr",
     "output_type": "stream",
     "text": [
      "                                                              \r"
     ]
    },
    {
     "name": "stdout",
     "output_type": "stream",
     "text": [
      "Query number: 43 ended\n",
      "Query number: 44 started\n"
     ]
    },
    {
     "name": "stderr",
     "output_type": "stream",
     "text": [
      "                                                              \r"
     ]
    },
    {
     "name": "stdout",
     "output_type": "stream",
     "text": [
      "Query number: 44 ended\n",
      "Query number: 45 started\n"
     ]
    },
    {
     "name": "stderr",
     "output_type": "stream",
     "text": [
      "                                                              \r"
     ]
    },
    {
     "name": "stdout",
     "output_type": "stream",
     "text": [
      "Error: no successful change\n",
      "the orange block is no longer clear\n",
      "['the blue block is clear', 'the hand is holding the blue block', 'the blue block is in the hand', 'the orange block is on top of the red block', 'the red block is on top of the yellow block', 'the yellow block is on the table']\n",
      "Error in query 45: ERROR\n",
      "Query number: 45 ended\n",
      "Query number: 46 started\n"
     ]
    },
    {
     "name": "stderr",
     "output_type": "stream",
     "text": [
      "                                                              \r"
     ]
    },
    {
     "name": "stdout",
     "output_type": "stream",
     "text": [
      "Query number: 46 ended\n",
      "Query number: 47 started\n"
     ]
    },
    {
     "name": "stderr",
     "output_type": "stream",
     "text": [
      "                                                      \r"
     ]
    },
    {
     "name": "stdout",
     "output_type": "stream",
     "text": [
      "Error: no successful change\n",
      "the orange block is no longer clear\n",
      "['the red block is clear', 'the hand is holding the red block', 'the red block is in the hand', 'the blue block is on top of the yellow block', 'the orange block is on top of the blue block', 'the yellow block is on the table']\n",
      "Error in query 47: ERROR\n",
      "Query number: 47 ended\n",
      "Query number: 48 started\n"
     ]
    },
    {
     "name": "stderr",
     "output_type": "stream",
     "text": [
      "                                                              \r"
     ]
    },
    {
     "name": "stdout",
     "output_type": "stream",
     "text": [
      "Query number: 48 ended\n",
      "Query number: 49 started\n"
     ]
    },
    {
     "name": "stderr",
     "output_type": "stream",
     "text": [
      "                                                              \r"
     ]
    },
    {
     "name": "stdout",
     "output_type": "stream",
     "text": [
      "Query number: 49 ended\n",
      "Query number: 50 started\n"
     ]
    },
    {
     "name": "stderr",
     "output_type": "stream",
     "text": [
      "                                                              \r"
     ]
    },
    {
     "name": "stdout",
     "output_type": "stream",
     "text": [
      "Query number: 50 ended\n",
      "Query number: 51 started\n"
     ]
    },
    {
     "name": "stderr",
     "output_type": "stream",
     "text": [
      "                                                              \r"
     ]
    },
    {
     "name": "stdout",
     "output_type": "stream",
     "text": [
      "Query number: 51 ended\n",
      "Query number: 52 started\n"
     ]
    },
    {
     "name": "stderr",
     "output_type": "stream",
     "text": [
      "                                                               \r"
     ]
    },
    {
     "name": "stdout",
     "output_type": "stream",
     "text": [
      "Query number: 52 ended\n",
      "Query number: 53 started\n"
     ]
    },
    {
     "name": "stderr",
     "output_type": "stream",
     "text": [
      "                                                              \r"
     ]
    },
    {
     "name": "stdout",
     "output_type": "stream",
     "text": [
      "Query number: 53 ended\n",
      "Query number: 54 started\n"
     ]
    },
    {
     "name": "stderr",
     "output_type": "stream",
     "text": [
      "                                                              \r"
     ]
    },
    {
     "name": "stdout",
     "output_type": "stream",
     "text": [
      "Query number: 54 ended\n",
      "Query number: 55 started\n"
     ]
    },
    {
     "name": "stderr",
     "output_type": "stream",
     "text": [
      "                                                              \r"
     ]
    },
    {
     "name": "stdout",
     "output_type": "stream",
     "text": [
      "Query number: 55 ended\n",
      "Query number: 56 started\n"
     ]
    },
    {
     "name": "stderr",
     "output_type": "stream",
     "text": [
      "                                                              \r"
     ]
    },
    {
     "name": "stdout",
     "output_type": "stream",
     "text": [
      "Query number: 56 ended\n",
      "Query number: 57 started\n"
     ]
    },
    {
     "name": "stderr",
     "output_type": "stream",
     "text": [
      "                                                              \r"
     ]
    },
    {
     "name": "stdout",
     "output_type": "stream",
     "text": [
      "Query number: 57 ended\n",
      "Query number: 58 started\n"
     ]
    },
    {
     "name": "stderr",
     "output_type": "stream",
     "text": [
      "                                                      \r"
     ]
    },
    {
     "name": "stdout",
     "output_type": "stream",
     "text": [
      "Error: no successful change\n",
      "the yellow block is no longer clear\n",
      "['the blue block is clear', 'the hand is holding the blue block', 'the blue block is in the hand', 'the orange block is on top of the red block', 'the yellow block is on top of the orange block', 'the red block is on the table']\n",
      "Error in query 58: ERROR\n",
      "Query number: 58 ended\n",
      "Query number: 59 started\n"
     ]
    },
    {
     "name": "stderr",
     "output_type": "stream",
     "text": [
      "                                                              \r"
     ]
    },
    {
     "name": "stdout",
     "output_type": "stream",
     "text": [
      "Query number: 59 ended\n",
      "Query number: 60 started\n"
     ]
    },
    {
     "name": "stderr",
     "output_type": "stream",
     "text": [
      "                                                      \r"
     ]
    },
    {
     "name": "stdout",
     "output_type": "stream",
     "text": [
      "Error: no successful change\n",
      "the orange block is no longer clear\n",
      "['the red block is clear', 'the blue block is clear', 'the hand is holding the blue block', 'the blue block is in the hand', 'the orange block is on top of the yellow block', 'the red block is on the table', 'the yellow block is on the table']\n",
      "Error in query 60: ERROR\n",
      "Query number: 60 ended\n",
      "Query number: 61 started\n"
     ]
    },
    {
     "name": "stderr",
     "output_type": "stream",
     "text": [
      "                                                              \r"
     ]
    },
    {
     "name": "stdout",
     "output_type": "stream",
     "text": [
      "Query number: 61 ended\n",
      "Query number: 62 started\n"
     ]
    },
    {
     "name": "stderr",
     "output_type": "stream",
     "text": [
      "                                                              \r"
     ]
    },
    {
     "name": "stdout",
     "output_type": "stream",
     "text": [
      "Query number: 62 ended\n",
      "Query number: 63 started\n"
     ]
    },
    {
     "name": "stderr",
     "output_type": "stream",
     "text": [
      "                                                      \r"
     ]
    },
    {
     "name": "stdout",
     "output_type": "stream",
     "text": [
      "Error: no successful change\n",
      "the yellow block is no longer clear\n",
      "['the blue block is clear', 'the hand is holding the blue block', 'the red block is on top of the orange block', 'the blue block is in the hand', 'the yellow block is on top of the red block', 'the orange block is on the table']\n",
      "Error in query 63: ERROR\n",
      "Query number: 63 ended\n",
      "Query number: 64 started\n"
     ]
    },
    {
     "name": "stderr",
     "output_type": "stream",
     "text": [
      "                                                               \r"
     ]
    },
    {
     "name": "stdout",
     "output_type": "stream",
     "text": [
      "Query number: 64 ended\n",
      "Query number: 65 started\n"
     ]
    },
    {
     "name": "stderr",
     "output_type": "stream",
     "text": [
      "                                                              \r"
     ]
    },
    {
     "name": "stdout",
     "output_type": "stream",
     "text": [
      "Query number: 65 ended\n",
      "Query number: 66 started\n"
     ]
    },
    {
     "name": "stderr",
     "output_type": "stream",
     "text": [
      "                                                              \r"
     ]
    },
    {
     "name": "stdout",
     "output_type": "stream",
     "text": [
      "Query number: 66 ended\n",
      "Query number: 67 started\n"
     ]
    },
    {
     "name": "stderr",
     "output_type": "stream",
     "text": [
      "                                                              \r"
     ]
    },
    {
     "name": "stdout",
     "output_type": "stream",
     "text": [
      "Query number: 67 ended\n",
      "Query number: 68 started\n"
     ]
    },
    {
     "name": "stderr",
     "output_type": "stream",
     "text": [
      "                                                              \r"
     ]
    },
    {
     "name": "stdout",
     "output_type": "stream",
     "text": [
      "Query number: 68 ended\n",
      "Query number: 69 started\n"
     ]
    },
    {
     "name": "stderr",
     "output_type": "stream",
     "text": [
      "                                                              \r"
     ]
    },
    {
     "name": "stdout",
     "output_type": "stream",
     "text": [
      "Query number: 69 ended\n",
      "Query number: 70 started\n"
     ]
    },
    {
     "name": "stderr",
     "output_type": "stream",
     "text": [
      "                                                              \r"
     ]
    },
    {
     "name": "stdout",
     "output_type": "stream",
     "text": [
      "Query number: 70 ended\n",
      "Query number: 71 started\n"
     ]
    },
    {
     "name": "stderr",
     "output_type": "stream",
     "text": [
      "                                                              \r"
     ]
    },
    {
     "name": "stdout",
     "output_type": "stream",
     "text": [
      "Query number: 71 ended\n",
      "Query number: 72 started\n"
     ]
    },
    {
     "name": "stderr",
     "output_type": "stream",
     "text": [
      "                                                              \r"
     ]
    },
    {
     "name": "stdout",
     "output_type": "stream",
     "text": [
      "Query number: 72 ended\n",
      "Query number: 73 started\n"
     ]
    },
    {
     "name": "stderr",
     "output_type": "stream",
     "text": [
      "                                                              \r"
     ]
    },
    {
     "name": "stdout",
     "output_type": "stream",
     "text": [
      "Query number: 73 ended\n",
      "Query number: 74 started\n"
     ]
    },
    {
     "name": "stderr",
     "output_type": "stream",
     "text": [
      "                                                               \r"
     ]
    },
    {
     "name": "stdout",
     "output_type": "stream",
     "text": [
      "Query number: 74 ended\n",
      "Query number: 75 started\n"
     ]
    },
    {
     "name": "stderr",
     "output_type": "stream",
     "text": [
      "                                                              \r"
     ]
    },
    {
     "name": "stdout",
     "output_type": "stream",
     "text": [
      "Query number: 75 ended\n",
      "Query number: 76 started\n"
     ]
    },
    {
     "name": "stderr",
     "output_type": "stream",
     "text": [
      "                                                              \r"
     ]
    },
    {
     "name": "stdout",
     "output_type": "stream",
     "text": [
      "Query number: 76 ended\n",
      "Query number: 77 started\n"
     ]
    },
    {
     "name": "stderr",
     "output_type": "stream",
     "text": [
      "                                                              \r"
     ]
    },
    {
     "name": "stdout",
     "output_type": "stream",
     "text": [
      "Query number: 77 ended\n",
      "Query number: 78 started\n"
     ]
    },
    {
     "name": "stderr",
     "output_type": "stream",
     "text": [
      "                                                              \r"
     ]
    },
    {
     "name": "stdout",
     "output_type": "stream",
     "text": [
      "Query number: 78 ended\n",
      "Query number: 79 started\n"
     ]
    },
    {
     "name": "stderr",
     "output_type": "stream",
     "text": [
      "                                                              \r"
     ]
    },
    {
     "name": "stdout",
     "output_type": "stream",
     "text": [
      "Query number: 79 ended\n",
      "Query number: 80 started\n"
     ]
    },
    {
     "name": "stderr",
     "output_type": "stream",
     "text": [
      "                                                               \r"
     ]
    },
    {
     "name": "stdout",
     "output_type": "stream",
     "text": [
      "Query number: 80 ended\n",
      "Query number: 81 started\n"
     ]
    },
    {
     "name": "stderr",
     "output_type": "stream",
     "text": [
      "                                                               \r"
     ]
    },
    {
     "name": "stdout",
     "output_type": "stream",
     "text": [
      "Query number: 81 ended\n",
      "Query number: 82 started\n"
     ]
    },
    {
     "name": "stderr",
     "output_type": "stream",
     "text": [
      "                                                              \r"
     ]
    },
    {
     "name": "stdout",
     "output_type": "stream",
     "text": [
      "Query number: 82 ended\n",
      "Query number: 83 started\n"
     ]
    },
    {
     "name": "stderr",
     "output_type": "stream",
     "text": [
      "                                                              \r"
     ]
    },
    {
     "name": "stdout",
     "output_type": "stream",
     "text": [
      "Query number: 83 ended\n",
      "Query number: 84 started\n"
     ]
    },
    {
     "name": "stderr",
     "output_type": "stream",
     "text": [
      "                                                              \r"
     ]
    },
    {
     "name": "stdout",
     "output_type": "stream",
     "text": [
      "Query number: 84 ended\n",
      "Query number: 85 started\n"
     ]
    },
    {
     "name": "stderr",
     "output_type": "stream",
     "text": [
      "                                                              \r"
     ]
    },
    {
     "name": "stdout",
     "output_type": "stream",
     "text": [
      "Query number: 85 ended\n",
      "Query number: 86 started\n"
     ]
    },
    {
     "name": "stderr",
     "output_type": "stream",
     "text": [
      "                                                      \r"
     ]
    },
    {
     "name": "stdout",
     "output_type": "stream",
     "text": [
      "Error: no successful change\n",
      "the yellow block is no longer clear\n",
      "['the red block is clear', 'the hand is holding the red block', 'the blue block is on top of the orange block', 'the red block is in the hand', 'the yellow block is on top of the blue block', 'the orange block is on the table']\n",
      "Error in query 86: ERROR\n",
      "Query number: 86 ended\n",
      "Query number: 87 started\n"
     ]
    },
    {
     "name": "stderr",
     "output_type": "stream",
     "text": [
      "                                                              \r"
     ]
    },
    {
     "name": "stdout",
     "output_type": "stream",
     "text": [
      "Query number: 87 ended\n",
      "Query number: 88 started\n"
     ]
    },
    {
     "name": "stderr",
     "output_type": "stream",
     "text": [
      "                                                              \r"
     ]
    },
    {
     "name": "stdout",
     "output_type": "stream",
     "text": [
      "Query number: 88 ended\n",
      "Query number: 89 started\n"
     ]
    },
    {
     "name": "stderr",
     "output_type": "stream",
     "text": [
      "                                                              \r"
     ]
    },
    {
     "name": "stdout",
     "output_type": "stream",
     "text": [
      "Query number: 89 ended\n",
      "Query number: 90 started\n"
     ]
    },
    {
     "name": "stderr",
     "output_type": "stream",
     "text": [
      "                                                      \r"
     ]
    },
    {
     "name": "stdout",
     "output_type": "stream",
     "text": [
      "Error: no successful change\n",
      "the yellow block is no longer clear\n",
      "['the red block is clear', 'the hand is holding the red block', 'the orange block is on top of the blue block', 'the red block is in the hand', 'the yellow block is on top of the orange block', 'the blue block is on the table']\n",
      "Error in query 90: ERROR\n",
      "Query number: 90 ended\n",
      "Query number: 91 started\n"
     ]
    },
    {
     "name": "stderr",
     "output_type": "stream",
     "text": [
      "                                                              \r"
     ]
    },
    {
     "name": "stdout",
     "output_type": "stream",
     "text": [
      "Query number: 91 ended\n",
      "Query number: 92 started\n"
     ]
    },
    {
     "name": "stderr",
     "output_type": "stream",
     "text": [
      "                                                               \r"
     ]
    },
    {
     "name": "stdout",
     "output_type": "stream",
     "text": [
      "Query number: 92 ended\n",
      "Query number: 93 started\n"
     ]
    },
    {
     "name": "stderr",
     "output_type": "stream",
     "text": [
      "                                                      \r"
     ]
    },
    {
     "name": "stdout",
     "output_type": "stream",
     "text": [
      "Error: no successful change\n",
      "the yellow block is no longer clear\n",
      "['the blue block is clear', 'the hand is holding the blue block', 'the red block is on top of the orange block', 'the blue block is in the hand', 'the yellow block is on top of the red block', 'the orange block is on the table']\n",
      "Error in query 93: ERROR\n",
      "Query number: 93 ended\n",
      "Query number: 94 started\n"
     ]
    },
    {
     "name": "stderr",
     "output_type": "stream",
     "text": [
      "                                                              \r"
     ]
    },
    {
     "name": "stdout",
     "output_type": "stream",
     "text": [
      "Query number: 94 ended\n",
      "Query number: 95 started\n"
     ]
    },
    {
     "name": "stderr",
     "output_type": "stream",
     "text": [
      "                                                              \r"
     ]
    },
    {
     "name": "stdout",
     "output_type": "stream",
     "text": [
      "Query number: 95 ended\n",
      "Query number: 96 started\n"
     ]
    },
    {
     "name": "stderr",
     "output_type": "stream",
     "text": [
      "                                                              \r"
     ]
    },
    {
     "name": "stdout",
     "output_type": "stream",
     "text": [
      "Query number: 96 ended\n",
      "Query number: 97 started\n"
     ]
    },
    {
     "name": "stderr",
     "output_type": "stream",
     "text": [
      "                                                               \r"
     ]
    },
    {
     "name": "stdout",
     "output_type": "stream",
     "text": [
      "Query number: 97 ended\n",
      "Query number: 98 started\n"
     ]
    },
    {
     "name": "stderr",
     "output_type": "stream",
     "text": [
      "                                                      \r"
     ]
    },
    {
     "name": "stdout",
     "output_type": "stream",
     "text": [
      "Error: no successful change\n",
      "the orange block is no longer clear\n",
      "['the red block is clear', 'the hand is holding the red block', 'the red block is in the hand', 'the orange block is on top of the yellow block', 'the yellow block is on top of the blue block', 'the blue block is on the table']\n",
      "Error in query 98: ERROR\n",
      "Query number: 98 ended\n",
      "Query number: 99 started\n"
     ]
    },
    {
     "name": "stderr",
     "output_type": "stream",
     "text": [
      "                                                              \r"
     ]
    },
    {
     "name": "stdout",
     "output_type": "stream",
     "text": [
      "Query number: 99 ended\n",
      "Query number: 100 started\n"
     ]
    },
    {
     "name": "stderr",
     "output_type": "stream",
     "text": [
      "                                                              \r"
     ]
    },
    {
     "name": "stdout",
     "output_type": "stream",
     "text": [
      "Query number: 100 ended\n",
      "Query number: 101 started\n"
     ]
    },
    {
     "name": "stderr",
     "output_type": "stream",
     "text": [
      "                                                              \r"
     ]
    },
    {
     "name": "stdout",
     "output_type": "stream",
     "text": [
      "Query number: 101 ended\n",
      "Query number: 102 started\n"
     ]
    },
    {
     "name": "stderr",
     "output_type": "stream",
     "text": [
      "                                                      \r"
     ]
    },
    {
     "name": "stdout",
     "output_type": "stream",
     "text": [
      "Error: no successful change\n",
      "the yellow block is no longer clear\n",
      "['the red block is clear', 'the hand is holding the red block', 'the red block is in the hand', 'the blue block is on top of the orange block', 'the yellow block is on top of the blue block', 'the orange block is on the table']\n",
      "Error in query 102: ERROR\n",
      "Query number: 102 ended\n",
      "Query number: 103 started\n"
     ]
    },
    {
     "name": "stderr",
     "output_type": "stream",
     "text": [
      "                                                              \r"
     ]
    },
    {
     "name": "stdout",
     "output_type": "stream",
     "text": [
      "Query number: 103 ended\n",
      "Query number: 104 started\n"
     ]
    },
    {
     "name": "stderr",
     "output_type": "stream",
     "text": [
      "                                                              \r"
     ]
    },
    {
     "name": "stdout",
     "output_type": "stream",
     "text": [
      "Error: no successful change\n",
      "the yellow block is no longer clear\n",
      "['the orange block is clear', 'the red block is clear', 'the hand is holding the red block', 'the red block is in the hand', 'the yellow block is on top of the blue block', 'the blue block is on the table', 'the orange block is on the table']\n",
      "Error in query 104: ERROR\n",
      "Query number: 104 ended\n",
      "Query number: 105 started\n"
     ]
    },
    {
     "name": "stderr",
     "output_type": "stream",
     "text": [
      "                                                              \r"
     ]
    },
    {
     "name": "stdout",
     "output_type": "stream",
     "text": [
      "Query number: 105 ended\n",
      "Query number: 106 started\n"
     ]
    },
    {
     "name": "stderr",
     "output_type": "stream",
     "text": [
      "                                                              \r"
     ]
    },
    {
     "name": "stdout",
     "output_type": "stream",
     "text": [
      "Query number: 106 ended\n",
      "Query number: 107 started\n"
     ]
    },
    {
     "name": "stderr",
     "output_type": "stream",
     "text": [
      "                                                               \r"
     ]
    },
    {
     "name": "stdout",
     "output_type": "stream",
     "text": [
      "Query number: 107 ended\n",
      "Query number: 108 started\n"
     ]
    },
    {
     "name": "stderr",
     "output_type": "stream",
     "text": [
      "                                                      \r"
     ]
    },
    {
     "name": "stdout",
     "output_type": "stream",
     "text": [
      "Error: no successful change\n",
      "the orange block is no longer clear\n",
      "['the red block is clear', 'the hand is holding the red block', 'the red block is in the hand', 'the orange block is on top of the yellow block', 'the yellow block is on top of the blue block', 'the blue block is on the table']\n",
      "Error in query 108: ERROR\n",
      "Query number: 108 ended\n",
      "Query number: 109 started\n"
     ]
    },
    {
     "name": "stderr",
     "output_type": "stream",
     "text": [
      "                                                              \r"
     ]
    },
    {
     "name": "stdout",
     "output_type": "stream",
     "text": [
      "Query number: 109 ended\n",
      "Query number: 110 started\n"
     ]
    },
    {
     "name": "stderr",
     "output_type": "stream",
     "text": [
      "                                                              \r"
     ]
    },
    {
     "name": "stdout",
     "output_type": "stream",
     "text": [
      "Query number: 110 ended\n",
      "Query number: 111 started\n"
     ]
    },
    {
     "name": "stderr",
     "output_type": "stream",
     "text": [
      "                                                              \r"
     ]
    },
    {
     "name": "stdout",
     "output_type": "stream",
     "text": [
      "Query number: 111 ended\n",
      "Query number: 112 started\n"
     ]
    },
    {
     "name": "stderr",
     "output_type": "stream",
     "text": [
      "                                                              \r"
     ]
    },
    {
     "name": "stdout",
     "output_type": "stream",
     "text": [
      "Query number: 112 ended\n",
      "Query number: 113 started\n"
     ]
    },
    {
     "name": "stderr",
     "output_type": "stream",
     "text": [
      "                                                      \r"
     ]
    },
    {
     "name": "stdout",
     "output_type": "stream",
     "text": [
      "Error: no successful change\n",
      "the yellow block is no longer clear\n",
      "['the red block is clear', 'the hand is holding the red block', 'the blue block is on top of the orange block', 'the red block is in the hand', 'the yellow block is on top of the blue block', 'the orange block is on the table']\n",
      "Error in query 113: ERROR\n",
      "Query number: 113 ended\n",
      "Query number: 114 started\n"
     ]
    },
    {
     "name": "stderr",
     "output_type": "stream",
     "text": [
      "                                                              \r"
     ]
    },
    {
     "name": "stdout",
     "output_type": "stream",
     "text": [
      "Query number: 114 ended\n",
      "Query number: 115 started\n"
     ]
    },
    {
     "name": "stderr",
     "output_type": "stream",
     "text": [
      "                                                               \r"
     ]
    },
    {
     "name": "stdout",
     "output_type": "stream",
     "text": [
      "Query number: 115 ended\n",
      "Query number: 116 started\n"
     ]
    },
    {
     "name": "stderr",
     "output_type": "stream",
     "text": [
      "                                                              \r"
     ]
    },
    {
     "name": "stdout",
     "output_type": "stream",
     "text": [
      "Query number: 116 ended\n",
      "Query number: 117 started\n"
     ]
    },
    {
     "name": "stderr",
     "output_type": "stream",
     "text": [
      "                                                              \r"
     ]
    },
    {
     "name": "stdout",
     "output_type": "stream",
     "text": [
      "Query number: 117 ended\n",
      "Query number: 118 started\n"
     ]
    },
    {
     "name": "stderr",
     "output_type": "stream",
     "text": [
      "                                                              \r"
     ]
    },
    {
     "name": "stdout",
     "output_type": "stream",
     "text": [
      "Query number: 118 ended\n",
      "Query number: 119 started\n"
     ]
    },
    {
     "name": "stderr",
     "output_type": "stream",
     "text": [
      "                                                              \r"
     ]
    },
    {
     "name": "stdout",
     "output_type": "stream",
     "text": [
      "Query number: 119 ended\n",
      "Query number: 120 started\n"
     ]
    },
    {
     "name": "stderr",
     "output_type": "stream",
     "text": [
      "                                                      \r"
     ]
    },
    {
     "name": "stdout",
     "output_type": "stream",
     "text": [
      "Error: no successful change\n",
      "the yellow block is no longer clear\n",
      "['the blue block is clear', 'the hand is holding the blue block', 'the blue block is in the hand', 'the orange block is on top of the red block', 'the yellow block is on top of the orange block', 'the red block is on the table']\n",
      "Error in query 120: ERROR\n",
      "Query number: 120 ended\n",
      "Query number: 121 started\n"
     ]
    },
    {
     "name": "stderr",
     "output_type": "stream",
     "text": [
      "                                                              \r"
     ]
    },
    {
     "name": "stdout",
     "output_type": "stream",
     "text": [
      "Query number: 121 ended\n",
      "Query number: 122 started\n"
     ]
    },
    {
     "name": "stderr",
     "output_type": "stream",
     "text": [
      "                                                              \r"
     ]
    },
    {
     "name": "stdout",
     "output_type": "stream",
     "text": [
      "Query number: 122 ended\n",
      "Query number: 123 started\n"
     ]
    },
    {
     "name": "stderr",
     "output_type": "stream",
     "text": [
      "                                                              \r"
     ]
    },
    {
     "name": "stdout",
     "output_type": "stream",
     "text": [
      "Query number: 123 ended\n",
      "Query number: 124 started\n"
     ]
    },
    {
     "name": "stderr",
     "output_type": "stream",
     "text": [
      "                                                              \r"
     ]
    },
    {
     "name": "stdout",
     "output_type": "stream",
     "text": [
      "Query number: 124 ended\n",
      "Query number: 125 started\n"
     ]
    },
    {
     "name": "stderr",
     "output_type": "stream",
     "text": [
      "                                                              \r"
     ]
    },
    {
     "name": "stdout",
     "output_type": "stream",
     "text": [
      "Query number: 125 ended\n",
      "Query number: 126 started\n"
     ]
    },
    {
     "name": "stderr",
     "output_type": "stream",
     "text": [
      "                                                              \r"
     ]
    },
    {
     "name": "stdout",
     "output_type": "stream",
     "text": [
      "Error: no successful change\n",
      "the yellow block is no longer clear\n",
      "['the blue block is clear', 'the red block is clear', 'the hand is holding the red block', 'the red block is in the hand', 'the yellow block is on top of the orange block', 'the blue block is on the table', 'the orange block is on the table']\n",
      "Error in query 126: ERROR\n",
      "Query number: 126 ended\n",
      "Query number: 127 started\n"
     ]
    },
    {
     "name": "stderr",
     "output_type": "stream",
     "text": [
      "                                                              \r"
     ]
    },
    {
     "name": "stdout",
     "output_type": "stream",
     "text": [
      "Query number: 127 ended\n",
      "Query number: 128 started\n"
     ]
    },
    {
     "name": "stderr",
     "output_type": "stream",
     "text": [
      "                                                              \r"
     ]
    },
    {
     "name": "stdout",
     "output_type": "stream",
     "text": [
      "Query number: 128 ended\n",
      "Query number: 129 started\n"
     ]
    },
    {
     "name": "stderr",
     "output_type": "stream",
     "text": [
      "                                                      \r"
     ]
    },
    {
     "name": "stdout",
     "output_type": "stream",
     "text": [
      "Error: no successful change\n",
      "the orange block is no longer clear\n",
      "['the red block is clear', 'the hand is holding the red block', 'the red block is in the hand', 'the orange block is on top of the yellow block', 'the yellow block is on top of the blue block', 'the blue block is on the table']\n",
      "Error in query 129: ERROR\n",
      "Query number: 129 ended\n",
      "Query number: 130 started\n"
     ]
    },
    {
     "name": "stderr",
     "output_type": "stream",
     "text": [
      "                                                              \r"
     ]
    },
    {
     "name": "stdout",
     "output_type": "stream",
     "text": [
      "Query number: 130 ended\n",
      "Query number: 131 started\n"
     ]
    },
    {
     "name": "stderr",
     "output_type": "stream",
     "text": [
      "                                                              \r"
     ]
    },
    {
     "name": "stdout",
     "output_type": "stream",
     "text": [
      "Query number: 131 ended\n",
      "Query number: 132 started\n"
     ]
    },
    {
     "name": "stderr",
     "output_type": "stream",
     "text": [
      "                                                              \r"
     ]
    },
    {
     "name": "stdout",
     "output_type": "stream",
     "text": [
      "Query number: 132 ended\n",
      "Query number: 133 started\n"
     ]
    },
    {
     "name": "stderr",
     "output_type": "stream",
     "text": [
      "                                                              \r"
     ]
    },
    {
     "name": "stdout",
     "output_type": "stream",
     "text": [
      "Error: no successful change\n",
      "the orange block is no longer clear\n",
      "['the blue block is clear', 'the hand is holding the blue block', 'the blue block is in the hand', 'the orange block is on top of the red block', 'the red block is on top of the yellow block', 'the yellow block is on the table']\n",
      "Error in query 133: ERROR\n",
      "Query number: 133 ended\n",
      "Query number: 134 started\n"
     ]
    },
    {
     "name": "stderr",
     "output_type": "stream",
     "text": [
      "                                                              \r"
     ]
    },
    {
     "name": "stdout",
     "output_type": "stream",
     "text": [
      "Query number: 134 ended\n",
      "Query number: 135 started\n"
     ]
    },
    {
     "name": "stderr",
     "output_type": "stream",
     "text": [
      "                                                              \r"
     ]
    },
    {
     "name": "stdout",
     "output_type": "stream",
     "text": [
      "Query number: 135 ended\n",
      "Query number: 136 started\n"
     ]
    },
    {
     "name": "stderr",
     "output_type": "stream",
     "text": [
      "                                                              \r"
     ]
    },
    {
     "name": "stdout",
     "output_type": "stream",
     "text": [
      "Query number: 136 ended\n",
      "Query number: 137 started\n"
     ]
    },
    {
     "name": "stderr",
     "output_type": "stream",
     "text": [
      "                                                              \r"
     ]
    },
    {
     "name": "stdout",
     "output_type": "stream",
     "text": [
      "Query number: 137 ended\n",
      "Query number: 138 started\n"
     ]
    },
    {
     "name": "stderr",
     "output_type": "stream",
     "text": [
      "                                                              \r"
     ]
    },
    {
     "name": "stdout",
     "output_type": "stream",
     "text": [
      "Query number: 138 ended\n",
      "Query number: 139 started\n"
     ]
    },
    {
     "name": "stderr",
     "output_type": "stream",
     "text": [
      "                                                              \r"
     ]
    },
    {
     "name": "stdout",
     "output_type": "stream",
     "text": [
      "Query number: 139 ended\n",
      "Query number: 140 started\n"
     ]
    },
    {
     "name": "stderr",
     "output_type": "stream",
     "text": [
      "                                                              \r"
     ]
    },
    {
     "name": "stdout",
     "output_type": "stream",
     "text": [
      "Query number: 140 ended\n",
      "Query number: 141 started\n"
     ]
    },
    {
     "name": "stderr",
     "output_type": "stream",
     "text": [
      "                                                              \r"
     ]
    },
    {
     "name": "stdout",
     "output_type": "stream",
     "text": [
      "Query number: 141 ended\n",
      "Query number: 142 started\n"
     ]
    },
    {
     "name": "stderr",
     "output_type": "stream",
     "text": [
      "                                                              \r"
     ]
    },
    {
     "name": "stdout",
     "output_type": "stream",
     "text": [
      "Query number: 142 ended\n",
      "Query number: 143 started\n"
     ]
    },
    {
     "name": "stderr",
     "output_type": "stream",
     "text": [
      "                                                              \r"
     ]
    },
    {
     "name": "stdout",
     "output_type": "stream",
     "text": [
      "Error: no successful change\n",
      "the orange block is no longer clear\n",
      "['the blue block is clear', 'the hand is holding the blue block', 'the blue block is in the hand', 'the orange block is on top of the red block', 'the red block is on top of the yellow block', 'the yellow block is on the table']\n",
      "Error in query 143: ERROR\n",
      "Query number: 143 ended\n",
      "Query number: 144 started\n"
     ]
    },
    {
     "name": "stderr",
     "output_type": "stream",
     "text": [
      "                                                              \r"
     ]
    },
    {
     "name": "stdout",
     "output_type": "stream",
     "text": [
      "Query number: 144 ended\n",
      "Query number: 145 started\n"
     ]
    },
    {
     "name": "stderr",
     "output_type": "stream",
     "text": [
      "                                                              \r"
     ]
    },
    {
     "name": "stdout",
     "output_type": "stream",
     "text": [
      "Query number: 145 ended\n",
      "Query number: 146 started\n"
     ]
    },
    {
     "name": "stderr",
     "output_type": "stream",
     "text": [
      "                                                              \r"
     ]
    },
    {
     "name": "stdout",
     "output_type": "stream",
     "text": [
      "Query number: 146 ended\n",
      "Query number: 147 started\n"
     ]
    },
    {
     "name": "stderr",
     "output_type": "stream",
     "text": [
      "                                                              \r"
     ]
    },
    {
     "name": "stdout",
     "output_type": "stream",
     "text": [
      "Query number: 147 ended\n",
      "Query number: 148 started\n"
     ]
    },
    {
     "name": "stderr",
     "output_type": "stream",
     "text": [
      "                                                      \r"
     ]
    },
    {
     "name": "stdout",
     "output_type": "stream",
     "text": [
      "Error: no successful change\n",
      "the yellow block is no longer clear\n",
      "['the red block is clear', 'the blue block is clear', 'the hand is holding the blue block', 'the blue block is in the hand', 'the yellow block is on top of the orange block', 'the red block is on the table', 'the orange block is on the table']\n",
      "Error in query 148: ERROR\n",
      "Query number: 148 ended\n",
      "Query number: 149 started\n"
     ]
    },
    {
     "name": "stderr",
     "output_type": "stream",
     "text": [
      "                                                              \r"
     ]
    },
    {
     "name": "stdout",
     "output_type": "stream",
     "text": [
      "Error: no successful change\n",
      "the yellow block is no longer clear\n",
      "['the red block is clear', 'the hand is holding the red block', 'the orange block is on top of the blue block', 'the red block is in the hand', 'the yellow block is on top of the orange block', 'the blue block is on the table']\n",
      "Error in query 149: ERROR\n",
      "Query number: 149 ended\n",
      "Query number: 150 started\n"
     ]
    },
    {
     "name": "stderr",
     "output_type": "stream",
     "text": [
      "                                                              \r"
     ]
    },
    {
     "name": "stdout",
     "output_type": "stream",
     "text": [
      "Query number: 150 ended\n",
      "Query number: 151 started\n"
     ]
    },
    {
     "name": "stderr",
     "output_type": "stream",
     "text": [
      "                                                              \r"
     ]
    },
    {
     "name": "stdout",
     "output_type": "stream",
     "text": [
      "Error: no successful change\n",
      "the orange block is no longer clear\n",
      "['the red block is clear', 'the hand is holding the red block', 'the orange block is on top of the yellow block', 'the red block is in the hand', 'the yellow block is on top of the blue block', 'the blue block is on the table']\n",
      "Error in query 151: ERROR\n",
      "Query number: 151 ended\n",
      "Query number: 152 started\n"
     ]
    },
    {
     "name": "stderr",
     "output_type": "stream",
     "text": [
      "                                                              \r"
     ]
    },
    {
     "name": "stdout",
     "output_type": "stream",
     "text": [
      "Query number: 152 ended\n",
      "Query number: 153 started\n"
     ]
    },
    {
     "name": "stderr",
     "output_type": "stream",
     "text": [
      "                                                      \r"
     ]
    },
    {
     "name": "stdout",
     "output_type": "stream",
     "text": [
      "Error: no successful change\n",
      "the yellow block is no longer clear\n",
      "['the red block is clear', 'the hand is holding the red block', 'the red block is in the hand', 'the blue block is on top of the orange block', 'the yellow block is on top of the blue block', 'the orange block is on the table']\n",
      "Error in query 153: ERROR\n",
      "Query number: 153 ended\n",
      "Query number: 154 started\n"
     ]
    },
    {
     "name": "stderr",
     "output_type": "stream",
     "text": [
      "                                                              \r"
     ]
    },
    {
     "name": "stdout",
     "output_type": "stream",
     "text": [
      "Query number: 154 ended\n",
      "Query number: 155 started\n"
     ]
    },
    {
     "name": "stderr",
     "output_type": "stream",
     "text": [
      "                                                              \r"
     ]
    },
    {
     "name": "stdout",
     "output_type": "stream",
     "text": [
      "Query number: 155 ended\n",
      "Query number: 156 started\n"
     ]
    },
    {
     "name": "stderr",
     "output_type": "stream",
     "text": [
      "                                                              \r"
     ]
    },
    {
     "name": "stdout",
     "output_type": "stream",
     "text": [
      "Query number: 156 ended\n",
      "Query number: 157 started\n"
     ]
    },
    {
     "name": "stderr",
     "output_type": "stream",
     "text": [
      "                                                              \r"
     ]
    },
    {
     "name": "stdout",
     "output_type": "stream",
     "text": [
      "Query number: 157 ended\n",
      "Query number: 158 started\n"
     ]
    },
    {
     "name": "stderr",
     "output_type": "stream",
     "text": [
      "                                                              \r"
     ]
    },
    {
     "name": "stdout",
     "output_type": "stream",
     "text": [
      "Query number: 158 ended\n",
      "Query number: 159 started\n"
     ]
    },
    {
     "name": "stderr",
     "output_type": "stream",
     "text": [
      "                                                              \r"
     ]
    },
    {
     "name": "stdout",
     "output_type": "stream",
     "text": [
      "Query number: 159 ended\n",
      "Query number: 160 started\n"
     ]
    },
    {
     "name": "stderr",
     "output_type": "stream",
     "text": [
      "                                                              \r"
     ]
    },
    {
     "name": "stdout",
     "output_type": "stream",
     "text": [
      "Query number: 160 ended\n",
      "Query number: 161 started\n"
     ]
    },
    {
     "name": "stderr",
     "output_type": "stream",
     "text": [
      "                                                              \r"
     ]
    },
    {
     "name": "stdout",
     "output_type": "stream",
     "text": [
      "Query number: 161 ended\n",
      "Query number: 162 started\n"
     ]
    },
    {
     "name": "stderr",
     "output_type": "stream",
     "text": [
      "                                                              \r"
     ]
    },
    {
     "name": "stdout",
     "output_type": "stream",
     "text": [
      "Query number: 162 ended\n",
      "Query number: 163 started\n"
     ]
    },
    {
     "name": "stderr",
     "output_type": "stream",
     "text": [
      "                                                              \r"
     ]
    },
    {
     "name": "stdout",
     "output_type": "stream",
     "text": [
      "Query number: 163 ended\n",
      "Query number: 164 started\n"
     ]
    },
    {
     "name": "stderr",
     "output_type": "stream",
     "text": [
      "                                                              \r"
     ]
    },
    {
     "name": "stdout",
     "output_type": "stream",
     "text": [
      "Query number: 164 ended\n",
      "Query number: 165 started\n"
     ]
    },
    {
     "name": "stderr",
     "output_type": "stream",
     "text": [
      "                                                              \r"
     ]
    },
    {
     "name": "stdout",
     "output_type": "stream",
     "text": [
      "Query number: 165 ended\n",
      "Query number: 166 started\n"
     ]
    },
    {
     "name": "stderr",
     "output_type": "stream",
     "text": [
      "                                                              \r"
     ]
    },
    {
     "name": "stdout",
     "output_type": "stream",
     "text": [
      "Query number: 166 ended\n",
      "Query number: 167 started\n"
     ]
    },
    {
     "name": "stderr",
     "output_type": "stream",
     "text": [
      "                                                      \r"
     ]
    },
    {
     "name": "stdout",
     "output_type": "stream",
     "text": [
      "Error: no successful change\n",
      "the yellow block is no longer clear\n",
      "['the blue block is clear', 'the hand is holding the blue block', 'the blue block is in the hand', 'the orange block is on top of the red block', 'the yellow block is on top of the orange block', 'the red block is on the table']\n",
      "Error in query 167: ERROR\n",
      "Query number: 167 ended\n",
      "Query number: 168 started\n"
     ]
    },
    {
     "name": "stderr",
     "output_type": "stream",
     "text": [
      "                                                              \r"
     ]
    },
    {
     "name": "stdout",
     "output_type": "stream",
     "text": [
      "Query number: 168 ended\n",
      "Query number: 169 started\n"
     ]
    },
    {
     "name": "stderr",
     "output_type": "stream",
     "text": [
      "                                                              \r"
     ]
    },
    {
     "name": "stdout",
     "output_type": "stream",
     "text": [
      "Error: no successful change\n",
      "the yellow block is no longer clear\n",
      "['the red block is clear', 'the hand is holding the red block', 'the blue block is on top of the orange block', 'the red block is in the hand', 'the yellow block is on top of the blue block', 'the orange block is on the table']\n",
      "Error in query 169: ERROR\n",
      "Query number: 169 ended\n",
      "Query number: 170 started\n"
     ]
    },
    {
     "name": "stderr",
     "output_type": "stream",
     "text": [
      "                                                              \r"
     ]
    },
    {
     "name": "stdout",
     "output_type": "stream",
     "text": [
      "Query number: 170 ended\n",
      "Query number: 171 started\n"
     ]
    },
    {
     "name": "stderr",
     "output_type": "stream",
     "text": [
      "                                                              \r"
     ]
    },
    {
     "name": "stdout",
     "output_type": "stream",
     "text": [
      "Query number: 171 ended\n",
      "Query number: 172 started\n"
     ]
    },
    {
     "name": "stderr",
     "output_type": "stream",
     "text": [
      "                                                              \r"
     ]
    },
    {
     "name": "stdout",
     "output_type": "stream",
     "text": [
      "Query number: 172 ended\n",
      "Query number: 173 started\n"
     ]
    },
    {
     "name": "stderr",
     "output_type": "stream",
     "text": [
      "                                                              \r"
     ]
    },
    {
     "name": "stdout",
     "output_type": "stream",
     "text": [
      "Query number: 173 ended\n",
      "Query number: 174 started\n"
     ]
    },
    {
     "name": "stderr",
     "output_type": "stream",
     "text": [
      "                                                      \r"
     ]
    },
    {
     "name": "stdout",
     "output_type": "stream",
     "text": [
      "Error: no successful change\n",
      "the orange block is no longer clear\n",
      "['the blue block is clear', 'the hand is holding the blue block', 'the red block is on top of the yellow block', 'the blue block is in the hand', 'the orange block is on top of the red block', 'the yellow block is on the table']\n",
      "Error in query 174: ERROR\n",
      "Query number: 174 ended\n",
      "Query number: 175 started\n"
     ]
    },
    {
     "name": "stderr",
     "output_type": "stream",
     "text": [
      "                                                              \r"
     ]
    },
    {
     "name": "stdout",
     "output_type": "stream",
     "text": [
      "Query number: 175 ended\n",
      "Query number: 176 started\n"
     ]
    },
    {
     "name": "stderr",
     "output_type": "stream",
     "text": [
      "                                                              \r"
     ]
    },
    {
     "name": "stdout",
     "output_type": "stream",
     "text": [
      "Query number: 176 ended\n",
      "Query number: 177 started\n"
     ]
    },
    {
     "name": "stderr",
     "output_type": "stream",
     "text": [
      "                                                      \r"
     ]
    },
    {
     "name": "stdout",
     "output_type": "stream",
     "text": [
      "Error: no successful change\n",
      "the orange block is no longer clear\n",
      "['the blue block is clear', 'the hand is holding the blue block', 'the red block is on top of the yellow block', 'the blue block is in the hand', 'the orange block is on top of the red block', 'the yellow block is on the table']\n",
      "Error in query 177: ERROR\n",
      "Query number: 177 ended\n",
      "Query number: 178 started\n"
     ]
    },
    {
     "name": "stderr",
     "output_type": "stream",
     "text": [
      "                                                              \r"
     ]
    },
    {
     "name": "stdout",
     "output_type": "stream",
     "text": [
      "Query number: 178 ended\n",
      "Query number: 179 started\n"
     ]
    },
    {
     "name": "stderr",
     "output_type": "stream",
     "text": [
      "                                                               \r"
     ]
    },
    {
     "name": "stdout",
     "output_type": "stream",
     "text": [
      "Query number: 179 ended\n",
      "Query number: 180 started\n"
     ]
    },
    {
     "name": "stderr",
     "output_type": "stream",
     "text": [
      "                                                              \r"
     ]
    },
    {
     "name": "stdout",
     "output_type": "stream",
     "text": [
      "Query number: 180 ended\n",
      "Query number: 181 started\n"
     ]
    },
    {
     "name": "stderr",
     "output_type": "stream",
     "text": [
      "                                                              \r"
     ]
    },
    {
     "name": "stdout",
     "output_type": "stream",
     "text": [
      "Error: no successful change\n",
      "the orange block is no longer clear\n",
      "['the red block is clear', 'the blue block is clear', 'the hand is holding the blue block', 'the blue block is in the hand', 'the orange block is on top of the yellow block', 'the red block is on the table', 'the yellow block is on the table']\n",
      "Error in query 181: ERROR\n",
      "Query number: 181 ended\n",
      "Query number: 182 started\n"
     ]
    },
    {
     "name": "stderr",
     "output_type": "stream",
     "text": [
      "                                                              \r"
     ]
    },
    {
     "name": "stdout",
     "output_type": "stream",
     "text": [
      "Query number: 182 ended\n",
      "Query number: 183 started\n"
     ]
    },
    {
     "name": "stderr",
     "output_type": "stream",
     "text": [
      "                                                               \r"
     ]
    },
    {
     "name": "stdout",
     "output_type": "stream",
     "text": [
      "Query number: 183 ended\n",
      "Query number: 184 started\n"
     ]
    },
    {
     "name": "stderr",
     "output_type": "stream",
     "text": [
      "                                                      \r"
     ]
    },
    {
     "name": "stdout",
     "output_type": "stream",
     "text": [
      "Error: no successful change\n",
      "the orange block is no longer clear\n",
      "['the blue block is clear', 'the hand is holding the blue block', 'the blue block is in the hand', 'the orange block is on top of the yellow block', 'the yellow block is on top of the red block', 'the red block is on the table']\n",
      "Error in query 184: ERROR\n",
      "Query number: 184 ended\n",
      "Query number: 185 started\n"
     ]
    },
    {
     "name": "stderr",
     "output_type": "stream",
     "text": [
      "                                                               \r"
     ]
    },
    {
     "name": "stdout",
     "output_type": "stream",
     "text": [
      "Query number: 185 ended\n",
      "Query number: 186 started\n"
     ]
    },
    {
     "name": "stderr",
     "output_type": "stream",
     "text": [
      "                                                              \r"
     ]
    },
    {
     "name": "stdout",
     "output_type": "stream",
     "text": [
      "Query number: 186 ended\n",
      "Query number: 187 started\n"
     ]
    },
    {
     "name": "stderr",
     "output_type": "stream",
     "text": [
      "                                                              \r"
     ]
    },
    {
     "name": "stdout",
     "output_type": "stream",
     "text": [
      "Query number: 187 ended\n",
      "Query number: 188 started\n"
     ]
    },
    {
     "name": "stderr",
     "output_type": "stream",
     "text": [
      "                                                              \r"
     ]
    },
    {
     "name": "stdout",
     "output_type": "stream",
     "text": [
      "Query number: 188 ended\n",
      "Query number: 189 started\n"
     ]
    },
    {
     "name": "stderr",
     "output_type": "stream",
     "text": [
      "                                                              \r"
     ]
    },
    {
     "name": "stdout",
     "output_type": "stream",
     "text": [
      "Query number: 189 ended\n",
      "Query number: 190 started\n"
     ]
    },
    {
     "name": "stderr",
     "output_type": "stream",
     "text": [
      "                                                              \r"
     ]
    },
    {
     "name": "stdout",
     "output_type": "stream",
     "text": [
      "Error: no successful change\n",
      "the yellow block is no longer clear\n",
      "['the red block is clear', 'the hand is holding the red block', 'the orange block is on top of the blue block', 'the red block is in the hand', 'the yellow block is on top of the orange block', 'the blue block is on the table']\n",
      "Error in query 190: ERROR\n",
      "Query number: 190 ended\n",
      "Query number: 191 started\n"
     ]
    },
    {
     "name": "stderr",
     "output_type": "stream",
     "text": [
      "                                                               \r"
     ]
    },
    {
     "name": "stdout",
     "output_type": "stream",
     "text": [
      "Query number: 191 ended\n",
      "Query number: 192 started\n"
     ]
    },
    {
     "name": "stderr",
     "output_type": "stream",
     "text": [
      "                                                              \r"
     ]
    },
    {
     "name": "stdout",
     "output_type": "stream",
     "text": [
      "Query number: 192 ended\n",
      "Query number: 193 started\n"
     ]
    },
    {
     "name": "stderr",
     "output_type": "stream",
     "text": [
      "                                                              \r"
     ]
    },
    {
     "name": "stdout",
     "output_type": "stream",
     "text": [
      "Query number: 193 ended\n",
      "Query number: 194 started\n"
     ]
    },
    {
     "name": "stderr",
     "output_type": "stream",
     "text": [
      "                                                      \r"
     ]
    },
    {
     "name": "stdout",
     "output_type": "stream",
     "text": [
      "Error: no successful change\n",
      "the yellow block is no longer clear\n",
      "['the red block is clear', 'the blue block is clear', 'the hand is holding the blue block', 'the blue block is in the hand', 'the yellow block is on top of the orange block', 'the red block is on the table', 'the orange block is on the table']\n",
      "Error in query 194: ERROR\n",
      "Query number: 194 ended\n",
      "Query number: 195 started\n"
     ]
    },
    {
     "name": "stderr",
     "output_type": "stream",
     "text": [
      "                                                              \r"
     ]
    },
    {
     "name": "stdout",
     "output_type": "stream",
     "text": [
      "Query number: 195 ended\n",
      "Query number: 196 started\n"
     ]
    },
    {
     "name": "stderr",
     "output_type": "stream",
     "text": [
      "                                                              \r"
     ]
    },
    {
     "name": "stdout",
     "output_type": "stream",
     "text": [
      "Query number: 196 ended\n",
      "Query number: 197 started\n"
     ]
    },
    {
     "name": "stderr",
     "output_type": "stream",
     "text": [
      "                                                      \r"
     ]
    },
    {
     "name": "stdout",
     "output_type": "stream",
     "text": [
      "Error: no successful change\n",
      "the yellow block is no longer clear\n",
      "['the blue block is clear', 'the hand is holding the blue block', 'the red block is on top of the orange block', 'the blue block is in the hand', 'the yellow block is on top of the red block', 'the orange block is on the table']\n",
      "Error in query 197: ERROR\n",
      "Query number: 197 ended\n",
      "Query number: 198 started\n"
     ]
    },
    {
     "name": "stderr",
     "output_type": "stream",
     "text": [
      "                                                              \r"
     ]
    },
    {
     "name": "stdout",
     "output_type": "stream",
     "text": [
      "Query number: 198 ended\n",
      "Query number: 199 started\n"
     ]
    },
    {
     "name": "stderr",
     "output_type": "stream",
     "text": [
      "                                                              \r"
     ]
    },
    {
     "name": "stdout",
     "output_type": "stream",
     "text": [
      "Query number: 199 ended\n",
      "Query number: 200 started\n"
     ]
    },
    {
     "name": "stderr",
     "output_type": "stream",
     "text": [
      "                                                              \r"
     ]
    },
    {
     "name": "stdout",
     "output_type": "stream",
     "text": [
      "Query number: 200 ended\n",
      "Query number: 201 started\n"
     ]
    },
    {
     "name": "stderr",
     "output_type": "stream",
     "text": [
      "                                                              \r"
     ]
    },
    {
     "name": "stdout",
     "output_type": "stream",
     "text": [
      "Query number: 201 ended\n",
      "Query number: 202 started\n"
     ]
    },
    {
     "name": "stderr",
     "output_type": "stream",
     "text": [
      "                                                              \r"
     ]
    },
    {
     "name": "stdout",
     "output_type": "stream",
     "text": [
      "Query number: 202 ended\n",
      "Query number: 203 started\n"
     ]
    },
    {
     "name": "stderr",
     "output_type": "stream",
     "text": [
      "                                                      \r"
     ]
    },
    {
     "name": "stdout",
     "output_type": "stream",
     "text": [
      "Error: no successful change\n",
      "the orange block is no longer clear\n",
      "['the red block is clear', 'the hand is holding the red block', 'the red block is in the hand', 'the orange block is on top of the yellow block', 'the yellow block is on top of the blue block', 'the blue block is on the table']\n",
      "Error in query 203: ERROR\n",
      "Query number: 203 ended\n",
      "Query number: 204 started\n"
     ]
    },
    {
     "name": "stderr",
     "output_type": "stream",
     "text": [
      "                                                              \r"
     ]
    },
    {
     "name": "stdout",
     "output_type": "stream",
     "text": [
      "Query number: 204 ended\n",
      "Query number: 205 started\n"
     ]
    },
    {
     "name": "stderr",
     "output_type": "stream",
     "text": [
      "                                                              \r"
     ]
    },
    {
     "name": "stdout",
     "output_type": "stream",
     "text": [
      "Query number: 205 ended\n",
      "Query number: 206 started\n"
     ]
    },
    {
     "name": "stderr",
     "output_type": "stream",
     "text": [
      "                                                              \r"
     ]
    },
    {
     "name": "stdout",
     "output_type": "stream",
     "text": [
      "Query number: 206 ended\n",
      "Query number: 207 started\n"
     ]
    },
    {
     "name": "stderr",
     "output_type": "stream",
     "text": [
      "                                                              \r"
     ]
    },
    {
     "name": "stdout",
     "output_type": "stream",
     "text": [
      "Query number: 207 ended\n",
      "Query number: 208 started\n"
     ]
    },
    {
     "name": "stderr",
     "output_type": "stream",
     "text": [
      "                                                              \r"
     ]
    },
    {
     "name": "stdout",
     "output_type": "stream",
     "text": [
      "Query number: 208 ended\n",
      "Query number: 209 started\n"
     ]
    },
    {
     "name": "stderr",
     "output_type": "stream",
     "text": [
      "                                                      \r"
     ]
    },
    {
     "name": "stdout",
     "output_type": "stream",
     "text": [
      "Error: no successful change\n",
      "the orange block is no longer clear\n",
      "['the red block is clear', 'the hand is holding the red block', 'the red block is in the hand', 'the blue block is on top of the yellow block', 'the orange block is on top of the blue block', 'the yellow block is on the table']\n",
      "Error in query 209: ERROR\n",
      "Query number: 209 ended\n",
      "Query number: 210 started\n"
     ]
    },
    {
     "name": "stderr",
     "output_type": "stream",
     "text": [
      "                                                              \r"
     ]
    },
    {
     "name": "stdout",
     "output_type": "stream",
     "text": [
      "Query number: 210 ended\n",
      "Query number: 211 started\n"
     ]
    },
    {
     "name": "stderr",
     "output_type": "stream",
     "text": [
      "                                                              \r"
     ]
    },
    {
     "name": "stdout",
     "output_type": "stream",
     "text": [
      "Query number: 211 ended\n",
      "Query number: 212 started\n"
     ]
    },
    {
     "name": "stderr",
     "output_type": "stream",
     "text": [
      "                                                               \r"
     ]
    },
    {
     "name": "stdout",
     "output_type": "stream",
     "text": [
      "Query number: 212 ended\n",
      "Query number: 213 started\n"
     ]
    },
    {
     "name": "stderr",
     "output_type": "stream",
     "text": [
      "                                                              \r"
     ]
    },
    {
     "name": "stdout",
     "output_type": "stream",
     "text": [
      "Error: no successful change\n",
      "the yellow block is no longer clear\n",
      "['the red block is clear', 'the hand is holding the red block', 'the blue block is on top of the orange block', 'the red block is in the hand', 'the yellow block is on top of the blue block', 'the orange block is on the table']\n",
      "Error in query 213: ERROR\n",
      "Query number: 213 ended\n",
      "Query number: 214 started\n"
     ]
    },
    {
     "name": "stderr",
     "output_type": "stream",
     "text": [
      "                                                              \r"
     ]
    },
    {
     "name": "stdout",
     "output_type": "stream",
     "text": [
      "Query number: 214 ended\n",
      "Query number: 215 started\n"
     ]
    },
    {
     "name": "stderr",
     "output_type": "stream",
     "text": [
      "                                                              \r"
     ]
    },
    {
     "name": "stdout",
     "output_type": "stream",
     "text": [
      "Query number: 215 ended\n",
      "Query number: 216 started\n"
     ]
    },
    {
     "name": "stderr",
     "output_type": "stream",
     "text": [
      "                                                              \r"
     ]
    },
    {
     "name": "stdout",
     "output_type": "stream",
     "text": [
      "Query number: 216 ended\n",
      "Query number: 217 started\n"
     ]
    },
    {
     "name": "stderr",
     "output_type": "stream",
     "text": [
      "                                                              \r"
     ]
    },
    {
     "name": "stdout",
     "output_type": "stream",
     "text": [
      "Query number: 217 ended\n",
      "Query number: 218 started\n"
     ]
    },
    {
     "name": "stderr",
     "output_type": "stream",
     "text": [
      "                                                              \r"
     ]
    },
    {
     "name": "stdout",
     "output_type": "stream",
     "text": [
      "Query number: 218 ended\n",
      "Query number: 219 started\n"
     ]
    },
    {
     "name": "stderr",
     "output_type": "stream",
     "text": [
      "                                                              \r"
     ]
    },
    {
     "name": "stdout",
     "output_type": "stream",
     "text": [
      "Query number: 219 ended\n",
      "Query number: 220 started\n"
     ]
    },
    {
     "name": "stderr",
     "output_type": "stream",
     "text": [
      "                                                              \r"
     ]
    },
    {
     "name": "stdout",
     "output_type": "stream",
     "text": [
      "Error: no successful change\n",
      "the yellow block is no longer clear\n",
      "['the orange block is clear', 'the red block is clear', 'the hand is holding the red block', 'the red block is in the hand', 'the yellow block is on top of the blue block', 'the blue block is on the table', 'the orange block is on the table']\n",
      "Error in query 220: ERROR\n",
      "Query number: 220 ended\n",
      "Query number: 221 started\n"
     ]
    },
    {
     "name": "stderr",
     "output_type": "stream",
     "text": [
      "                                                              \r"
     ]
    },
    {
     "name": "stdout",
     "output_type": "stream",
     "text": [
      "Query number: 221 ended\n",
      "Query number: 222 started\n"
     ]
    },
    {
     "name": "stderr",
     "output_type": "stream",
     "text": [
      "                                                              \r"
     ]
    },
    {
     "name": "stdout",
     "output_type": "stream",
     "text": [
      "Query number: 222 ended\n",
      "Query number: 223 started\n"
     ]
    },
    {
     "name": "stderr",
     "output_type": "stream",
     "text": [
      "                                                              \r"
     ]
    },
    {
     "name": "stdout",
     "output_type": "stream",
     "text": [
      "Query number: 223 ended\n",
      "Query number: 224 started\n"
     ]
    },
    {
     "name": "stderr",
     "output_type": "stream",
     "text": [
      "                                                              \r"
     ]
    },
    {
     "name": "stdout",
     "output_type": "stream",
     "text": [
      "Query number: 224 ended\n",
      "Query number: 225 started\n"
     ]
    },
    {
     "name": "stderr",
     "output_type": "stream",
     "text": [
      "                                                              \r"
     ]
    },
    {
     "name": "stdout",
     "output_type": "stream",
     "text": [
      "Query number: 225 ended\n",
      "Query number: 226 started\n"
     ]
    },
    {
     "name": "stderr",
     "output_type": "stream",
     "text": [
      "                                                              \r"
     ]
    },
    {
     "name": "stdout",
     "output_type": "stream",
     "text": [
      "Query number: 226 ended\n",
      "Query number: 227 started\n"
     ]
    },
    {
     "name": "stderr",
     "output_type": "stream",
     "text": [
      "                                                              \r"
     ]
    },
    {
     "name": "stdout",
     "output_type": "stream",
     "text": [
      "Error: no successful change\n",
      "the yellow block is no longer clear\n",
      "['the red block is clear', 'the hand is holding the red block', 'the blue block is on top of the orange block', 'the red block is in the hand', 'the yellow block is on top of the blue block', 'the orange block is on the table']\n",
      "Error in query 227: ERROR\n",
      "Query number: 227 ended\n",
      "Query number: 228 started\n"
     ]
    },
    {
     "name": "stderr",
     "output_type": "stream",
     "text": [
      "                                                              \r"
     ]
    },
    {
     "name": "stdout",
     "output_type": "stream",
     "text": [
      "Query number: 228 ended\n",
      "Query number: 229 started\n"
     ]
    },
    {
     "name": "stderr",
     "output_type": "stream",
     "text": [
      "                                                              \r"
     ]
    },
    {
     "name": "stdout",
     "output_type": "stream",
     "text": [
      "Query number: 229 ended\n",
      "Query number: 230 started\n"
     ]
    },
    {
     "name": "stderr",
     "output_type": "stream",
     "text": [
      "                                                              \r"
     ]
    },
    {
     "name": "stdout",
     "output_type": "stream",
     "text": [
      "Query number: 230 ended\n",
      "Query number: 231 started\n"
     ]
    },
    {
     "name": "stderr",
     "output_type": "stream",
     "text": [
      "                                                              \r"
     ]
    },
    {
     "name": "stdout",
     "output_type": "stream",
     "text": [
      "Query number: 231 ended\n",
      "Query number: 232 started\n"
     ]
    },
    {
     "name": "stderr",
     "output_type": "stream",
     "text": [
      "                                                      \r"
     ]
    },
    {
     "name": "stdout",
     "output_type": "stream",
     "text": [
      "Error: no successful change\n",
      "the yellow block is no longer clear\n",
      "['the red block is clear', 'the hand is holding the red block', 'the red block is in the hand', 'the blue block is on top of the orange block', 'the yellow block is on top of the blue block', 'the orange block is on the table']\n",
      "Error in query 232: ERROR\n",
      "Query number: 232 ended\n",
      "Query number: 233 started\n"
     ]
    },
    {
     "name": "stderr",
     "output_type": "stream",
     "text": [
      "                                                              \r"
     ]
    },
    {
     "name": "stdout",
     "output_type": "stream",
     "text": [
      "Query number: 233 ended\n",
      "Query number: 234 started\n"
     ]
    },
    {
     "name": "stderr",
     "output_type": "stream",
     "text": [
      "                                                              \r"
     ]
    },
    {
     "name": "stdout",
     "output_type": "stream",
     "text": [
      "Query number: 234 ended\n",
      "Query number: 235 started\n"
     ]
    },
    {
     "name": "stderr",
     "output_type": "stream",
     "text": [
      "                                                              \r"
     ]
    },
    {
     "name": "stdout",
     "output_type": "stream",
     "text": [
      "Query number: 235 ended\n",
      "Query number: 236 started\n"
     ]
    },
    {
     "name": "stderr",
     "output_type": "stream",
     "text": [
      "                                                              \r"
     ]
    },
    {
     "name": "stdout",
     "output_type": "stream",
     "text": [
      "Query number: 236 ended\n",
      "Query number: 237 started\n"
     ]
    },
    {
     "name": "stderr",
     "output_type": "stream",
     "text": [
      "                                                              \r"
     ]
    },
    {
     "name": "stdout",
     "output_type": "stream",
     "text": [
      "Query number: 237 ended\n",
      "Query number: 238 started\n"
     ]
    },
    {
     "name": "stderr",
     "output_type": "stream",
     "text": [
      "                                                              \r"
     ]
    },
    {
     "name": "stdout",
     "output_type": "stream",
     "text": [
      "Query number: 238 ended\n",
      "Query number: 239 started\n"
     ]
    },
    {
     "name": "stderr",
     "output_type": "stream",
     "text": [
      "                                                              \r"
     ]
    },
    {
     "name": "stdout",
     "output_type": "stream",
     "text": [
      "Query number: 239 ended\n",
      "Query number: 240 started\n"
     ]
    },
    {
     "name": "stderr",
     "output_type": "stream",
     "text": [
      "                                                              \r"
     ]
    },
    {
     "name": "stdout",
     "output_type": "stream",
     "text": [
      "Query number: 240 ended\n",
      "Query number: 241 started\n"
     ]
    },
    {
     "name": "stderr",
     "output_type": "stream",
     "text": [
      "                                                              \r"
     ]
    },
    {
     "name": "stdout",
     "output_type": "stream",
     "text": [
      "Query number: 241 ended\n",
      "Query number: 242 started\n"
     ]
    },
    {
     "name": "stderr",
     "output_type": "stream",
     "text": [
      "                                                              \r"
     ]
    },
    {
     "name": "stdout",
     "output_type": "stream",
     "text": [
      "Query number: 242 ended\n",
      "Query number: 243 started\n"
     ]
    },
    {
     "name": "stderr",
     "output_type": "stream",
     "text": [
      "                                                               \r"
     ]
    },
    {
     "name": "stdout",
     "output_type": "stream",
     "text": [
      "Query number: 243 ended\n",
      "Query number: 244 started\n"
     ]
    },
    {
     "name": "stderr",
     "output_type": "stream",
     "text": [
      "                                                              \r"
     ]
    },
    {
     "name": "stdout",
     "output_type": "stream",
     "text": [
      "Query number: 244 ended\n",
      "Query number: 245 started\n"
     ]
    },
    {
     "name": "stderr",
     "output_type": "stream",
     "text": [
      "                                                              \r"
     ]
    },
    {
     "name": "stdout",
     "output_type": "stream",
     "text": [
      "Query number: 245 ended\n",
      "Query number: 246 started\n"
     ]
    },
    {
     "name": "stderr",
     "output_type": "stream",
     "text": [
      "                                                              \r"
     ]
    },
    {
     "name": "stdout",
     "output_type": "stream",
     "text": [
      "Query number: 246 ended\n",
      "Query number: 247 started\n"
     ]
    },
    {
     "name": "stderr",
     "output_type": "stream",
     "text": [
      "                                                              \r"
     ]
    },
    {
     "name": "stdout",
     "output_type": "stream",
     "text": [
      "Query number: 247 ended\n",
      "Query number: 248 started\n"
     ]
    },
    {
     "name": "stderr",
     "output_type": "stream",
     "text": [
      "                                                      \r"
     ]
    },
    {
     "name": "stdout",
     "output_type": "stream",
     "text": [
      "Error: no successful change\n",
      "the orange block is no longer clear\n",
      "['the blue block is clear', 'the hand is holding the blue block', 'the blue block is in the hand', 'the orange block is on top of the yellow block', 'the yellow block is on top of the red block', 'the red block is on the table']\n",
      "Error in query 248: ERROR\n",
      "Query number: 248 ended\n",
      "Query number: 249 started\n"
     ]
    },
    {
     "name": "stderr",
     "output_type": "stream",
     "text": [
      "                                                              \r"
     ]
    },
    {
     "name": "stdout",
     "output_type": "stream",
     "text": [
      "Error: no successful change\n",
      "the yellow block is no longer clear\n",
      "['the orange block is clear', 'the red block is clear', 'the hand is holding the red block', 'the red block is in the hand', 'the yellow block is on top of the blue block', 'the blue block is on the table', 'the orange block is on the table']\n",
      "Error in query 249: ERROR\n",
      "Query number: 249 ended\n",
      "Query number: 250 started\n"
     ]
    },
    {
     "name": "stderr",
     "output_type": "stream",
     "text": [
      "                                                              \r"
     ]
    },
    {
     "name": "stdout",
     "output_type": "stream",
     "text": [
      "Query number: 250 ended\n",
      "Query number: 251 started\n"
     ]
    },
    {
     "name": "stderr",
     "output_type": "stream",
     "text": [
      "                                                              \r"
     ]
    },
    {
     "name": "stdout",
     "output_type": "stream",
     "text": [
      "Query number: 251 ended\n",
      "Query number: 252 started\n"
     ]
    },
    {
     "name": "stderr",
     "output_type": "stream",
     "text": [
      "                                                              \r"
     ]
    },
    {
     "name": "stdout",
     "output_type": "stream",
     "text": [
      "Query number: 252 ended\n",
      "Query number: 253 started\n"
     ]
    },
    {
     "name": "stderr",
     "output_type": "stream",
     "text": [
      "                                                              \r"
     ]
    },
    {
     "name": "stdout",
     "output_type": "stream",
     "text": [
      "Query number: 253 ended\n",
      "Query number: 254 started\n"
     ]
    },
    {
     "name": "stderr",
     "output_type": "stream",
     "text": [
      "                                                              \r"
     ]
    },
    {
     "name": "stdout",
     "output_type": "stream",
     "text": [
      "Query number: 254 ended\n",
      "Query number: 255 started\n"
     ]
    },
    {
     "name": "stderr",
     "output_type": "stream",
     "text": [
      "                                                              \r"
     ]
    },
    {
     "name": "stdout",
     "output_type": "stream",
     "text": [
      "Query number: 255 ended\n",
      "Query number: 256 started\n"
     ]
    },
    {
     "name": "stderr",
     "output_type": "stream",
     "text": [
      "                                                      \r"
     ]
    },
    {
     "name": "stdout",
     "output_type": "stream",
     "text": [
      "Error: no successful change\n",
      "the yellow block is no longer clear\n",
      "['the blue block is clear', 'the hand is holding the blue block', 'the blue block is in the hand', 'the red block is on top of the orange block', 'the yellow block is on top of the red block', 'the orange block is on the table']\n",
      "Error in query 256: ERROR\n",
      "Query number: 256 ended\n",
      "Query number: 257 started\n"
     ]
    },
    {
     "name": "stderr",
     "output_type": "stream",
     "text": [
      "                                                              \r"
     ]
    },
    {
     "name": "stdout",
     "output_type": "stream",
     "text": [
      "Query number: 257 ended\n",
      "Query number: 258 started\n"
     ]
    },
    {
     "name": "stderr",
     "output_type": "stream",
     "text": [
      "                                                               \r"
     ]
    },
    {
     "name": "stdout",
     "output_type": "stream",
     "text": [
      "Query number: 258 ended\n",
      "Query number: 259 started\n"
     ]
    },
    {
     "name": "stderr",
     "output_type": "stream",
     "text": [
      "                                                              \r"
     ]
    },
    {
     "name": "stdout",
     "output_type": "stream",
     "text": [
      "Query number: 259 ended\n",
      "Query number: 260 started\n"
     ]
    },
    {
     "name": "stderr",
     "output_type": "stream",
     "text": [
      "                                                              \r"
     ]
    },
    {
     "name": "stdout",
     "output_type": "stream",
     "text": [
      "Query number: 260 ended\n",
      "Query number: 261 started\n"
     ]
    },
    {
     "name": "stderr",
     "output_type": "stream",
     "text": [
      "                                                              \r"
     ]
    },
    {
     "name": "stdout",
     "output_type": "stream",
     "text": [
      "Query number: 261 ended\n",
      "Query number: 262 started\n"
     ]
    },
    {
     "name": "stderr",
     "output_type": "stream",
     "text": [
      "                                                      \r"
     ]
    },
    {
     "name": "stdout",
     "output_type": "stream",
     "text": [
      "Error: no successful change\n",
      "the yellow block is no longer clear\n",
      "['the red block is clear', 'the blue block is clear', 'the hand is holding the blue block', 'the blue block is in the hand', 'the yellow block is on top of the orange block', 'the red block is on the table', 'the orange block is on the table']\n",
      "Error in query 262: ERROR\n",
      "Query number: 262 ended\n",
      "Query number: 263 started\n"
     ]
    },
    {
     "name": "stderr",
     "output_type": "stream",
     "text": [
      "                                                              \r"
     ]
    },
    {
     "name": "stdout",
     "output_type": "stream",
     "text": [
      "Query number: 263 ended\n",
      "Query number: 264 started\n"
     ]
    },
    {
     "name": "stderr",
     "output_type": "stream",
     "text": [
      "                                                              \r"
     ]
    },
    {
     "name": "stdout",
     "output_type": "stream",
     "text": [
      "Query number: 264 ended\n",
      "Query number: 265 started\n"
     ]
    },
    {
     "name": "stderr",
     "output_type": "stream",
     "text": [
      "                                                              \r"
     ]
    },
    {
     "name": "stdout",
     "output_type": "stream",
     "text": [
      "Query number: 265 ended\n",
      "Query number: 266 started\n"
     ]
    },
    {
     "name": "stderr",
     "output_type": "stream",
     "text": [
      "                                                              \r"
     ]
    },
    {
     "name": "stdout",
     "output_type": "stream",
     "text": [
      "Query number: 266 ended\n",
      "Query number: 267 started\n"
     ]
    },
    {
     "name": "stderr",
     "output_type": "stream",
     "text": [
      "                                                              \r"
     ]
    },
    {
     "name": "stdout",
     "output_type": "stream",
     "text": [
      "Query number: 267 ended\n",
      "Query number: 268 started\n"
     ]
    },
    {
     "name": "stderr",
     "output_type": "stream",
     "text": [
      "                                                      \r"
     ]
    },
    {
     "name": "stdout",
     "output_type": "stream",
     "text": [
      "Error: no successful change\n",
      "the orange block is no longer clear\n",
      "['the red block is clear', 'the hand is holding the red block', 'the red block is in the hand', 'the orange block is on top of the yellow block', 'the yellow block is on top of the blue block', 'the blue block is on the table']\n",
      "Error in query 268: ERROR\n",
      "Query number: 268 ended\n",
      "Query number: 269 started\n"
     ]
    },
    {
     "name": "stderr",
     "output_type": "stream",
     "text": [
      "                                                              \r"
     ]
    },
    {
     "name": "stdout",
     "output_type": "stream",
     "text": [
      "Query number: 269 ended\n",
      "Query number: 270 started\n"
     ]
    },
    {
     "name": "stderr",
     "output_type": "stream",
     "text": [
      "                                                               \r"
     ]
    },
    {
     "name": "stdout",
     "output_type": "stream",
     "text": [
      "Query number: 270 ended\n",
      "Query number: 271 started\n"
     ]
    },
    {
     "name": "stderr",
     "output_type": "stream",
     "text": [
      "                                                              \r"
     ]
    },
    {
     "name": "stdout",
     "output_type": "stream",
     "text": [
      "Query number: 271 ended\n",
      "Query number: 272 started\n"
     ]
    },
    {
     "name": "stderr",
     "output_type": "stream",
     "text": [
      "                                                              \r"
     ]
    },
    {
     "name": "stdout",
     "output_type": "stream",
     "text": [
      "Query number: 272 ended\n",
      "Query number: 273 started\n"
     ]
    },
    {
     "name": "stderr",
     "output_type": "stream",
     "text": [
      "                                                               \r"
     ]
    },
    {
     "name": "stdout",
     "output_type": "stream",
     "text": [
      "Query number: 273 ended\n",
      "Query number: 274 started\n"
     ]
    },
    {
     "name": "stderr",
     "output_type": "stream",
     "text": [
      "                                                              \r"
     ]
    },
    {
     "name": "stdout",
     "output_type": "stream",
     "text": [
      "Query number: 274 ended\n",
      "Query number: 275 started\n"
     ]
    },
    {
     "name": "stderr",
     "output_type": "stream",
     "text": [
      "                                                              \r"
     ]
    },
    {
     "name": "stdout",
     "output_type": "stream",
     "text": [
      "Query number: 275 ended\n",
      "Query number: 276 started\n"
     ]
    },
    {
     "name": "stderr",
     "output_type": "stream",
     "text": [
      "                                                              \r"
     ]
    },
    {
     "name": "stdout",
     "output_type": "stream",
     "text": [
      "Query number: 276 ended\n",
      "Query number: 277 started\n"
     ]
    },
    {
     "name": "stderr",
     "output_type": "stream",
     "text": [
      "                                                              \r"
     ]
    },
    {
     "name": "stdout",
     "output_type": "stream",
     "text": [
      "Query number: 277 ended\n",
      "Query number: 278 started\n"
     ]
    },
    {
     "name": "stderr",
     "output_type": "stream",
     "text": [
      "                                                      \r"
     ]
    },
    {
     "name": "stdout",
     "output_type": "stream",
     "text": [
      "Error: no successful change\n",
      "the orange block is no longer clear\n",
      "['the red block is clear', 'the hand is holding the red block', 'the red block is in the hand', 'the orange block is on top of the yellow block', 'the yellow block is on top of the blue block', 'the blue block is on the table']\n",
      "Error in query 278: ERROR\n",
      "Query number: 278 ended\n",
      "Query number: 279 started\n"
     ]
    },
    {
     "name": "stderr",
     "output_type": "stream",
     "text": [
      "                                                              \r"
     ]
    },
    {
     "name": "stdout",
     "output_type": "stream",
     "text": [
      "Query number: 279 ended\n",
      "Query number: 280 started\n"
     ]
    },
    {
     "name": "stderr",
     "output_type": "stream",
     "text": [
      "                                                              \r"
     ]
    },
    {
     "name": "stdout",
     "output_type": "stream",
     "text": [
      "Query number: 280 ended\n",
      "Query number: 281 started\n"
     ]
    },
    {
     "name": "stderr",
     "output_type": "stream",
     "text": [
      "                                                              \r"
     ]
    },
    {
     "name": "stdout",
     "output_type": "stream",
     "text": [
      "Query number: 281 ended\n",
      "Query number: 282 started\n"
     ]
    },
    {
     "name": "stderr",
     "output_type": "stream",
     "text": [
      "                                                      \r"
     ]
    },
    {
     "name": "stdout",
     "output_type": "stream",
     "text": [
      "Error: no successful change\n",
      "the yellow block is no longer clear\n",
      "['the red block is clear', 'the blue block is clear', 'the hand is holding the blue block', 'the blue block is in the hand', 'the yellow block is on top of the orange block', 'the red block is on the table', 'the orange block is on the table']\n",
      "Error in query 282: ERROR\n",
      "Query number: 282 ended\n",
      "Query number: 283 started\n"
     ]
    },
    {
     "name": "stderr",
     "output_type": "stream",
     "text": [
      "                                                              \r"
     ]
    },
    {
     "name": "stdout",
     "output_type": "stream",
     "text": [
      "Query number: 283 ended\n",
      "Query number: 284 started\n"
     ]
    },
    {
     "name": "stderr",
     "output_type": "stream",
     "text": [
      "                                                              \r"
     ]
    },
    {
     "name": "stdout",
     "output_type": "stream",
     "text": [
      "Query number: 284 ended\n",
      "Query number: 285 started\n"
     ]
    },
    {
     "name": "stderr",
     "output_type": "stream",
     "text": [
      "                                                              \r"
     ]
    },
    {
     "name": "stdout",
     "output_type": "stream",
     "text": [
      "Error: no successful change\n",
      "the yellow block is no longer clear\n",
      "['the red block is clear', 'the hand is holding the red block', 'the orange block is on top of the blue block', 'the red block is in the hand', 'the yellow block is on top of the orange block', 'the blue block is on the table']\n",
      "Error in query 285: ERROR\n",
      "Query number: 285 ended\n",
      "Query number: 286 started\n"
     ]
    },
    {
     "name": "stderr",
     "output_type": "stream",
     "text": [
      "                                                              \r"
     ]
    },
    {
     "name": "stdout",
     "output_type": "stream",
     "text": [
      "Query number: 286 ended\n",
      "Query number: 287 started\n"
     ]
    },
    {
     "name": "stderr",
     "output_type": "stream",
     "text": [
      "                                                              \r"
     ]
    },
    {
     "name": "stdout",
     "output_type": "stream",
     "text": [
      "Query number: 287 ended\n",
      "Query number: 288 started\n"
     ]
    },
    {
     "name": "stderr",
     "output_type": "stream",
     "text": [
      "                                                              \r"
     ]
    },
    {
     "name": "stdout",
     "output_type": "stream",
     "text": [
      "Query number: 288 ended\n",
      "Query number: 289 started\n"
     ]
    },
    {
     "name": "stderr",
     "output_type": "stream",
     "text": [
      "                                                              \r"
     ]
    },
    {
     "name": "stdout",
     "output_type": "stream",
     "text": [
      "Query number: 289 ended\n",
      "Query number: 290 started\n"
     ]
    },
    {
     "name": "stderr",
     "output_type": "stream",
     "text": [
      "                                                      \r"
     ]
    },
    {
     "name": "stdout",
     "output_type": "stream",
     "text": [
      "Error: no successful change\n",
      "the yellow block is no longer clear\n",
      "['the red block is clear', 'the hand is holding the red block', 'the red block is in the hand', 'the blue block is on top of the orange block', 'the yellow block is on top of the blue block', 'the orange block is on the table']\n",
      "Error in query 290: ERROR\n",
      "Query number: 290 ended\n",
      "Query number: 291 started\n"
     ]
    },
    {
     "name": "stderr",
     "output_type": "stream",
     "text": [
      "                                                      \r"
     ]
    },
    {
     "name": "stdout",
     "output_type": "stream",
     "text": [
      "Error: no successful change\n",
      "the yellow block is no longer clear\n",
      "['the blue block is clear', 'the hand is holding the blue block', 'the blue block is in the hand', 'the orange block is on top of the red block', 'the yellow block is on top of the orange block', 'the red block is on the table']\n",
      "Error in query 291: ERROR\n",
      "Query number: 291 ended\n",
      "Query number: 292 started\n"
     ]
    },
    {
     "name": "stderr",
     "output_type": "stream",
     "text": [
      "                                                              \r"
     ]
    },
    {
     "name": "stdout",
     "output_type": "stream",
     "text": [
      "Query number: 292 ended\n",
      "Query number: 293 started\n"
     ]
    },
    {
     "name": "stderr",
     "output_type": "stream",
     "text": [
      "                                                              \r"
     ]
    },
    {
     "name": "stdout",
     "output_type": "stream",
     "text": [
      "Query number: 293 ended\n",
      "Query number: 294 started\n"
     ]
    },
    {
     "name": "stderr",
     "output_type": "stream",
     "text": [
      "                                                              \r"
     ]
    },
    {
     "name": "stdout",
     "output_type": "stream",
     "text": [
      "Query number: 294 ended\n",
      "Query number: 295 started\n"
     ]
    },
    {
     "name": "stderr",
     "output_type": "stream",
     "text": [
      "                                                              \r"
     ]
    },
    {
     "name": "stdout",
     "output_type": "stream",
     "text": [
      "Query number: 295 ended\n",
      "Query number: 296 started\n"
     ]
    },
    {
     "name": "stderr",
     "output_type": "stream",
     "text": [
      "                                                      \r"
     ]
    },
    {
     "name": "stdout",
     "output_type": "stream",
     "text": [
      "Error: no successful change\n",
      "the orange block is no longer clear\n",
      "['the blue block is clear', 'the hand is holding the blue block', 'the blue block is in the hand', 'the orange block is on top of the red block', 'the red block is on top of the yellow block', 'the yellow block is on the table']\n",
      "Error in query 296: ERROR\n",
      "Query number: 296 ended\n",
      "Query number: 297 started\n"
     ]
    },
    {
     "name": "stderr",
     "output_type": "stream",
     "text": [
      "                                                      \r"
     ]
    },
    {
     "name": "stdout",
     "output_type": "stream",
     "text": [
      "Error: no successful change\n",
      "the orange block is no longer clear\n",
      "['the red block is clear', 'the hand is holding the red block', 'the red block is in the hand', 'the blue block is on top of the yellow block', 'the orange block is on top of the blue block', 'the yellow block is on the table']\n",
      "Error in query 297: ERROR\n",
      "Query number: 297 ended\n",
      "Query number: 298 started\n"
     ]
    },
    {
     "name": "stderr",
     "output_type": "stream",
     "text": [
      "                                                              \r"
     ]
    },
    {
     "name": "stdout",
     "output_type": "stream",
     "text": [
      "Query number: 298 ended\n",
      "Query number: 299 started\n"
     ]
    },
    {
     "name": "stderr",
     "output_type": "stream",
     "text": [
      "                                                              \r"
     ]
    },
    {
     "name": "stdout",
     "output_type": "stream",
     "text": [
      "Query number: 299 ended\n",
      "Query number: 300 started\n"
     ]
    },
    {
     "name": "stderr",
     "output_type": "stream",
     "text": [
      "                                                               \r"
     ]
    },
    {
     "name": "stdout",
     "output_type": "stream",
     "text": [
      "Query number: 300 ended\n",
      "Query number: 301 started\n"
     ]
    },
    {
     "name": "stderr",
     "output_type": "stream",
     "text": [
      "                                                      \r"
     ]
    },
    {
     "name": "stdout",
     "output_type": "stream",
     "text": [
      "Error: no successful change\n",
      "the yellow block is no longer clear\n",
      "['the blue block is clear', 'the hand is holding the blue block', 'the blue block is in the hand', 'the orange block is on top of the red block', 'the yellow block is on top of the orange block', 'the red block is on the table']\n",
      "Error in query 301: ERROR\n",
      "Query number: 301 ended\n",
      "Query number: 302 started\n"
     ]
    },
    {
     "name": "stderr",
     "output_type": "stream",
     "text": [
      "                                                      \r"
     ]
    },
    {
     "name": "stdout",
     "output_type": "stream",
     "text": [
      "Error: no successful change\n",
      "the orange block is no longer clear\n",
      "['the blue block is clear', 'the hand is holding the blue block', 'the red block is on top of the yellow block', 'the blue block is in the hand', 'the orange block is on top of the red block', 'the yellow block is on the table']\n",
      "Error in query 302: ERROR\n",
      "Query number: 302 ended\n",
      "Query number: 303 started\n"
     ]
    },
    {
     "name": "stderr",
     "output_type": "stream",
     "text": [
      "                                                              \r"
     ]
    },
    {
     "name": "stdout",
     "output_type": "stream",
     "text": [
      "Error: no successful change\n",
      "the yellow block is no longer clear\n",
      "['the red block is clear', 'the hand is holding the red block', 'the orange block is on top of the blue block', 'the red block is in the hand', 'the yellow block is on top of the orange block', 'the blue block is on the table']\n",
      "Error in query 303: ERROR\n",
      "Query number: 303 ended\n",
      "Query number: 304 started\n"
     ]
    },
    {
     "name": "stderr",
     "output_type": "stream",
     "text": [
      "                                                              \r"
     ]
    },
    {
     "name": "stdout",
     "output_type": "stream",
     "text": [
      "Query number: 304 ended\n",
      "Query number: 305 started\n"
     ]
    },
    {
     "name": "stderr",
     "output_type": "stream",
     "text": [
      "                                                      \r"
     ]
    },
    {
     "name": "stdout",
     "output_type": "stream",
     "text": [
      "Error: no successful change\n",
      "the orange block is no longer clear\n",
      "['the red block is clear', 'the hand is holding the red block', 'the red block is in the hand', 'the orange block is on top of the yellow block', 'the yellow block is on top of the blue block', 'the blue block is on the table']\n",
      "Error in query 305: ERROR\n",
      "Query number: 305 ended\n",
      "Query number: 306 started\n"
     ]
    },
    {
     "name": "stderr",
     "output_type": "stream",
     "text": [
      "                                                              \r"
     ]
    },
    {
     "name": "stdout",
     "output_type": "stream",
     "text": [
      "Error: no successful change\n",
      "the yellow block is no longer clear\n",
      "['the red block is clear', 'the hand is holding the red block', 'the blue block is on top of the orange block', 'the red block is in the hand', 'the yellow block is on top of the blue block', 'the orange block is on the table']\n",
      "Error in query 306: ERROR\n",
      "Query number: 306 ended\n",
      "Query number: 307 started\n"
     ]
    },
    {
     "name": "stderr",
     "output_type": "stream",
     "text": [
      "                                                      \r"
     ]
    },
    {
     "name": "stdout",
     "output_type": "stream",
     "text": [
      "Error: no successful change\n",
      "the yellow block is no longer clear\n",
      "['the red block is clear', 'the hand is holding the red block', 'the red block is in the hand', 'the orange block is on top of the blue block', 'the yellow block is on top of the orange block', 'the blue block is on the table']\n",
      "Error in query 307: ERROR\n",
      "Query number: 307 ended\n",
      "Query number: 308 started\n"
     ]
    },
    {
     "name": "stderr",
     "output_type": "stream",
     "text": [
      "                                                              \r"
     ]
    },
    {
     "name": "stdout",
     "output_type": "stream",
     "text": [
      "Query number: 308 ended\n",
      "Query number: 309 started\n"
     ]
    },
    {
     "name": "stderr",
     "output_type": "stream",
     "text": [
      "                                                              \r"
     ]
    },
    {
     "name": "stdout",
     "output_type": "stream",
     "text": [
      "Error: no successful change\n",
      "the yellow block is no longer clear\n",
      "['the red block is clear', 'the hand is holding the red block', 'the blue block is on top of the orange block', 'the red block is in the hand', 'the yellow block is on top of the blue block', 'the orange block is on the table']\n",
      "Error in query 309: ERROR\n",
      "Query number: 309 ended\n",
      "Query number: 310 started\n"
     ]
    },
    {
     "name": "stderr",
     "output_type": "stream",
     "text": [
      "                                                              \r"
     ]
    },
    {
     "name": "stdout",
     "output_type": "stream",
     "text": [
      "Query number: 310 ended\n",
      "Query number: 311 started\n"
     ]
    },
    {
     "name": "stderr",
     "output_type": "stream",
     "text": [
      "                                                              \r"
     ]
    },
    {
     "name": "stdout",
     "output_type": "stream",
     "text": [
      "Query number: 311 ended\n",
      "Query number: 312 started\n"
     ]
    },
    {
     "name": "stderr",
     "output_type": "stream",
     "text": [
      "                                                      \r"
     ]
    },
    {
     "name": "stdout",
     "output_type": "stream",
     "text": [
      "Error: no successful change\n",
      "the yellow block is no longer clear\n",
      "['the red block is clear', 'the hand is holding the red block', 'the red block is in the hand', 'the blue block is on top of the orange block', 'the yellow block is on top of the blue block', 'the orange block is on the table']\n",
      "Error in query 312: ERROR\n",
      "Query number: 312 ended\n",
      "Query number: 313 started\n"
     ]
    },
    {
     "name": "stderr",
     "output_type": "stream",
     "text": [
      "                                                              \r"
     ]
    },
    {
     "name": "stdout",
     "output_type": "stream",
     "text": [
      "Query number: 313 ended\n",
      "Query number: 314 started\n"
     ]
    },
    {
     "name": "stderr",
     "output_type": "stream",
     "text": [
      "                                                              \r"
     ]
    },
    {
     "name": "stdout",
     "output_type": "stream",
     "text": [
      "Query number: 314 ended\n",
      "Query number: 315 started\n"
     ]
    },
    {
     "name": "stderr",
     "output_type": "stream",
     "text": [
      "                                                              \r"
     ]
    },
    {
     "name": "stdout",
     "output_type": "stream",
     "text": [
      "Query number: 315 ended\n",
      "Query number: 316 started\n"
     ]
    },
    {
     "name": "stderr",
     "output_type": "stream",
     "text": [
      "                                                              \r"
     ]
    },
    {
     "name": "stdout",
     "output_type": "stream",
     "text": [
      "Error: no successful change\n",
      "the orange block is no longer clear\n",
      "['the blue block is clear', 'the hand is holding the blue block', 'the blue block is in the hand', 'the orange block is on top of the yellow block', 'the yellow block is on top of the red block', 'the red block is on the table']\n",
      "Error in query 316: ERROR\n",
      "Query number: 316 ended\n",
      "Query number: 317 started\n"
     ]
    },
    {
     "name": "stderr",
     "output_type": "stream",
     "text": [
      "                                                              \r"
     ]
    },
    {
     "name": "stdout",
     "output_type": "stream",
     "text": [
      "Error: no successful change\n",
      "the yellow block is no longer clear\n",
      "['the blue block is clear', 'the red block is clear', 'the hand is holding the red block', 'the red block is in the hand', 'the yellow block is on top of the orange block', 'the blue block is on the table', 'the orange block is on the table']\n",
      "Error in query 317: ERROR\n",
      "Query number: 317 ended\n",
      "Query number: 318 started\n"
     ]
    },
    {
     "name": "stderr",
     "output_type": "stream",
     "text": [
      "                                                              \r"
     ]
    },
    {
     "name": "stdout",
     "output_type": "stream",
     "text": [
      "Query number: 318 ended\n",
      "Query number: 319 started\n"
     ]
    },
    {
     "name": "stderr",
     "output_type": "stream",
     "text": [
      "                                                              \r"
     ]
    },
    {
     "name": "stdout",
     "output_type": "stream",
     "text": [
      "Query number: 319 ended\n",
      "Query number: 320 started\n"
     ]
    },
    {
     "name": "stderr",
     "output_type": "stream",
     "text": [
      "                                                              \r"
     ]
    },
    {
     "name": "stdout",
     "output_type": "stream",
     "text": [
      "Query number: 320 ended\n",
      "Query number: 321 started\n"
     ]
    },
    {
     "name": "stderr",
     "output_type": "stream",
     "text": [
      "                                                      \r"
     ]
    },
    {
     "name": "stdout",
     "output_type": "stream",
     "text": [
      "Error: no successful change\n",
      "the orange block is no longer clear\n",
      "['the blue block is clear', 'the hand is holding the blue block', 'the blue block is in the hand', 'the orange block is on top of the yellow block', 'the yellow block is on top of the red block', 'the red block is on the table']\n",
      "Error in query 321: ERROR\n",
      "Query number: 321 ended\n",
      "Query number: 322 started\n"
     ]
    },
    {
     "name": "stderr",
     "output_type": "stream",
     "text": [
      "                                                              \r"
     ]
    },
    {
     "name": "stdout",
     "output_type": "stream",
     "text": [
      "Query number: 322 ended\n",
      "Query number: 323 started\n"
     ]
    },
    {
     "name": "stderr",
     "output_type": "stream",
     "text": [
      "                                                      \r"
     ]
    },
    {
     "name": "stdout",
     "output_type": "stream",
     "text": [
      "Error: no successful change\n",
      "the orange block is no longer clear\n",
      "['the blue block is clear', 'the hand is holding the blue block', 'the red block is on top of the yellow block', 'the blue block is in the hand', 'the orange block is on top of the red block', 'the yellow block is on the table']\n",
      "Error in query 323: ERROR\n",
      "Query number: 323 ended\n",
      "Query number: 324 started\n"
     ]
    },
    {
     "name": "stderr",
     "output_type": "stream",
     "text": [
      "                                                              \r"
     ]
    },
    {
     "name": "stdout",
     "output_type": "stream",
     "text": [
      "Query number: 324 ended\n",
      "Query number: 325 started\n"
     ]
    },
    {
     "name": "stderr",
     "output_type": "stream",
     "text": [
      "                                                              \r"
     ]
    },
    {
     "name": "stdout",
     "output_type": "stream",
     "text": [
      "Query number: 325 ended\n",
      "Query number: 326 started\n"
     ]
    },
    {
     "name": "stderr",
     "output_type": "stream",
     "text": [
      "                                                              \r"
     ]
    },
    {
     "name": "stdout",
     "output_type": "stream",
     "text": [
      "Query number: 326 ended\n",
      "Query number: 327 started\n"
     ]
    },
    {
     "name": "stderr",
     "output_type": "stream",
     "text": [
      "                                                              \r"
     ]
    },
    {
     "name": "stdout",
     "output_type": "stream",
     "text": [
      "Query number: 327 ended\n",
      "Query number: 328 started\n"
     ]
    },
    {
     "name": "stderr",
     "output_type": "stream",
     "text": [
      "                                                      \r"
     ]
    },
    {
     "name": "stdout",
     "output_type": "stream",
     "text": [
      "Error: no successful change\n",
      "the yellow block is no longer clear\n",
      "['the blue block is clear', 'the hand is holding the blue block', 'the red block is on top of the orange block', 'the blue block is in the hand', 'the yellow block is on top of the red block', 'the orange block is on the table']\n",
      "Error in query 328: ERROR\n",
      "Query number: 328 ended\n",
      "Query number: 329 started\n"
     ]
    },
    {
     "name": "stderr",
     "output_type": "stream",
     "text": [
      "                                                              \r"
     ]
    },
    {
     "name": "stdout",
     "output_type": "stream",
     "text": [
      "Error: no successful change\n",
      "the yellow block is no longer clear\n",
      "['the orange block is clear', 'the red block is clear', 'the hand is holding the red block', 'the red block is in the hand', 'the yellow block is on top of the blue block', 'the blue block is on the table', 'the orange block is on the table']\n",
      "Error in query 329: ERROR\n",
      "Query number: 329 ended\n",
      "Query number: 330 started\n"
     ]
    },
    {
     "name": "stderr",
     "output_type": "stream",
     "text": [
      "                                                              \r"
     ]
    },
    {
     "name": "stdout",
     "output_type": "stream",
     "text": [
      "Query number: 330 ended\n",
      "Query number: 331 started\n"
     ]
    },
    {
     "name": "stderr",
     "output_type": "stream",
     "text": [
      "                                                              \r"
     ]
    },
    {
     "name": "stdout",
     "output_type": "stream",
     "text": [
      "Query number: 331 ended\n",
      "Query number: 332 started\n"
     ]
    },
    {
     "name": "stderr",
     "output_type": "stream",
     "text": [
      "                                                              \r"
     ]
    },
    {
     "name": "stdout",
     "output_type": "stream",
     "text": [
      "Query number: 332 ended\n",
      "Query number: 333 started\n"
     ]
    },
    {
     "name": "stderr",
     "output_type": "stream",
     "text": [
      "                                                              \r"
     ]
    },
    {
     "name": "stdout",
     "output_type": "stream",
     "text": [
      "Query number: 333 ended\n",
      "Query number: 334 started\n"
     ]
    },
    {
     "name": "stderr",
     "output_type": "stream",
     "text": [
      "                                                              \r"
     ]
    },
    {
     "name": "stdout",
     "output_type": "stream",
     "text": [
      "Query number: 334 ended\n",
      "Query number: 335 started\n"
     ]
    },
    {
     "name": "stderr",
     "output_type": "stream",
     "text": [
      "                                                      \r"
     ]
    },
    {
     "name": "stdout",
     "output_type": "stream",
     "text": [
      "Error: no successful change\n",
      "the orange block is no longer clear\n",
      "['the blue block is clear', 'the hand is holding the blue block', 'the blue block is in the hand', 'the orange block is on top of the yellow block', 'the yellow block is on top of the red block', 'the red block is on the table']\n",
      "Error in query 335: ERROR\n",
      "Query number: 335 ended\n",
      "Query number: 336 started\n"
     ]
    },
    {
     "name": "stderr",
     "output_type": "stream",
     "text": [
      "                                                              \r"
     ]
    },
    {
     "name": "stdout",
     "output_type": "stream",
     "text": [
      "Query number: 336 ended\n",
      "Query number: 337 started\n"
     ]
    },
    {
     "name": "stderr",
     "output_type": "stream",
     "text": [
      "                                                              \r"
     ]
    },
    {
     "name": "stdout",
     "output_type": "stream",
     "text": [
      "Query number: 337 ended\n",
      "Query number: 338 started\n"
     ]
    },
    {
     "name": "stderr",
     "output_type": "stream",
     "text": [
      "                                                              \r"
     ]
    },
    {
     "name": "stdout",
     "output_type": "stream",
     "text": [
      "Query number: 338 ended\n",
      "Query number: 339 started\n"
     ]
    },
    {
     "name": "stderr",
     "output_type": "stream",
     "text": [
      "                                                              \r"
     ]
    },
    {
     "name": "stdout",
     "output_type": "stream",
     "text": [
      "Query number: 339 ended\n",
      "Query number: 340 started\n"
     ]
    },
    {
     "name": "stderr",
     "output_type": "stream",
     "text": [
      "                                                              \r"
     ]
    },
    {
     "name": "stdout",
     "output_type": "stream",
     "text": [
      "Query number: 340 ended\n",
      "Query number: 341 started\n"
     ]
    },
    {
     "name": "stderr",
     "output_type": "stream",
     "text": [
      "                                                              \r"
     ]
    },
    {
     "name": "stdout",
     "output_type": "stream",
     "text": [
      "Error: no successful change\n",
      "the yellow block is no longer clear\n",
      "['the blue block is clear', 'the red block is clear', 'the hand is holding the red block', 'the red block is in the hand', 'the yellow block is on top of the orange block', 'the blue block is on the table', 'the orange block is on the table']\n",
      "Error in query 341: ERROR\n",
      "Query number: 341 ended\n",
      "Query number: 342 started\n"
     ]
    },
    {
     "name": "stderr",
     "output_type": "stream",
     "text": [
      "                                                               \r"
     ]
    },
    {
     "name": "stdout",
     "output_type": "stream",
     "text": [
      "Query number: 342 ended\n",
      "Query number: 343 started\n"
     ]
    },
    {
     "name": "stderr",
     "output_type": "stream",
     "text": [
      "                                                              \r"
     ]
    },
    {
     "name": "stdout",
     "output_type": "stream",
     "text": [
      "Query number: 343 ended\n",
      "Query number: 344 started\n"
     ]
    },
    {
     "name": "stderr",
     "output_type": "stream",
     "text": [
      "                                                              \r"
     ]
    },
    {
     "name": "stdout",
     "output_type": "stream",
     "text": [
      "Query number: 344 ended\n",
      "Query number: 345 started\n"
     ]
    },
    {
     "name": "stderr",
     "output_type": "stream",
     "text": [
      "                                                              \r"
     ]
    },
    {
     "name": "stdout",
     "output_type": "stream",
     "text": [
      "Query number: 345 ended\n",
      "Query number: 346 started\n"
     ]
    },
    {
     "name": "stderr",
     "output_type": "stream",
     "text": [
      "                                                              \r"
     ]
    },
    {
     "name": "stdout",
     "output_type": "stream",
     "text": [
      "Error: no successful change\n",
      "the orange block is no longer clear\n",
      "['the red block is clear', 'the hand is holding the red block', 'the orange block is on top of the yellow block', 'the red block is in the hand', 'the yellow block is on top of the blue block', 'the blue block is on the table']\n",
      "Error in query 346: ERROR\n",
      "Query number: 346 ended\n",
      "Query number: 347 started\n"
     ]
    },
    {
     "name": "stderr",
     "output_type": "stream",
     "text": [
      "                                                      \r"
     ]
    },
    {
     "name": "stdout",
     "output_type": "stream",
     "text": [
      "Error: no successful change\n",
      "the yellow block is no longer clear\n",
      "['the red block is clear', 'the hand is holding the red block', 'the blue block is on top of the orange block', 'the red block is in the hand', 'the yellow block is on top of the blue block', 'the orange block is on the table']\n",
      "Error in query 347: ERROR\n",
      "Query number: 347 ended\n",
      "Query number: 348 started\n"
     ]
    },
    {
     "name": "stderr",
     "output_type": "stream",
     "text": [
      "                                                              \r"
     ]
    },
    {
     "name": "stdout",
     "output_type": "stream",
     "text": [
      "Query number: 348 ended\n",
      "Query number: 349 started\n"
     ]
    },
    {
     "name": "stderr",
     "output_type": "stream",
     "text": [
      "                                                              \r"
     ]
    },
    {
     "name": "stdout",
     "output_type": "stream",
     "text": [
      "Query number: 349 ended\n",
      "Query number: 350 started\n"
     ]
    },
    {
     "name": "stderr",
     "output_type": "stream",
     "text": [
      "                                                              \r"
     ]
    },
    {
     "name": "stdout",
     "output_type": "stream",
     "text": [
      "Query number: 350 ended\n",
      "Query number: 351 started\n"
     ]
    },
    {
     "name": "stderr",
     "output_type": "stream",
     "text": [
      "                                                               \r"
     ]
    },
    {
     "name": "stdout",
     "output_type": "stream",
     "text": [
      "Query number: 351 ended\n",
      "Query number: 352 started\n"
     ]
    },
    {
     "name": "stderr",
     "output_type": "stream",
     "text": [
      "                                                      \r"
     ]
    },
    {
     "name": "stdout",
     "output_type": "stream",
     "text": [
      "Error: no successful change\n",
      "the yellow block is no longer clear\n",
      "['the red block is clear', 'the hand is holding the red block', 'the red block is in the hand', 'the orange block is on top of the blue block', 'the yellow block is on top of the orange block', 'the blue block is on the table']\n",
      "Error in query 352: ERROR\n",
      "Query number: 352 ended\n",
      "Query number: 353 started\n"
     ]
    },
    {
     "name": "stderr",
     "output_type": "stream",
     "text": [
      "                                                      \r"
     ]
    },
    {
     "name": "stdout",
     "output_type": "stream",
     "text": [
      "Error: no successful change\n",
      "the orange block is no longer clear\n",
      "['the blue block is clear', 'the hand is holding the blue block', 'the blue block is in the hand', 'the orange block is on top of the red block', 'the red block is on top of the yellow block', 'the yellow block is on the table']\n",
      "Error in query 353: ERROR\n",
      "Query number: 353 ended\n",
      "Query number: 354 started\n"
     ]
    },
    {
     "name": "stderr",
     "output_type": "stream",
     "text": [
      "                                                      \r"
     ]
    },
    {
     "name": "stdout",
     "output_type": "stream",
     "text": [
      "Error: no successful change\n",
      "the yellow block is no longer clear\n",
      "['the blue block is clear', 'the hand is holding the blue block', 'the blue block is in the hand', 'the red block is on top of the orange block', 'the yellow block is on top of the red block', 'the orange block is on the table']\n",
      "Error in query 354: ERROR\n",
      "Query number: 354 ended\n",
      "Query number: 355 started\n"
     ]
    },
    {
     "name": "stderr",
     "output_type": "stream",
     "text": [
      "                                                              \r"
     ]
    },
    {
     "name": "stdout",
     "output_type": "stream",
     "text": [
      "Query number: 355 ended\n",
      "Query number: 356 started\n"
     ]
    },
    {
     "name": "stderr",
     "output_type": "stream",
     "text": [
      "                                                      \r"
     ]
    },
    {
     "name": "stdout",
     "output_type": "stream",
     "text": [
      "Error: no successful change\n",
      "the yellow block is no longer clear\n",
      "['the red block is clear', 'the hand is holding the red block', 'the red block is in the hand', 'the orange block is on top of the blue block', 'the yellow block is on top of the orange block', 'the blue block is on the table']\n",
      "Error in query 356: ERROR\n",
      "Query number: 356 ended\n",
      "Query number: 357 started\n"
     ]
    },
    {
     "name": "stderr",
     "output_type": "stream",
     "text": [
      "                                                              \r"
     ]
    },
    {
     "name": "stdout",
     "output_type": "stream",
     "text": [
      "Query number: 357 ended\n",
      "Query number: 358 started\n"
     ]
    },
    {
     "name": "stderr",
     "output_type": "stream",
     "text": [
      "                                                              \r"
     ]
    },
    {
     "name": "stdout",
     "output_type": "stream",
     "text": [
      "Query number: 358 ended\n",
      "Query number: 359 started\n"
     ]
    },
    {
     "name": "stderr",
     "output_type": "stream",
     "text": [
      "                                                              \r"
     ]
    },
    {
     "name": "stdout",
     "output_type": "stream",
     "text": [
      "Query number: 359 ended\n",
      "Query number: 360 started\n"
     ]
    },
    {
     "name": "stderr",
     "output_type": "stream",
     "text": [
      "                                                              \r"
     ]
    },
    {
     "name": "stdout",
     "output_type": "stream",
     "text": [
      "Query number: 360 ended\n",
      "Query number: 361 started\n"
     ]
    },
    {
     "name": "stderr",
     "output_type": "stream",
     "text": [
      "                                                              \r"
     ]
    },
    {
     "name": "stdout",
     "output_type": "stream",
     "text": [
      "Query number: 361 ended\n",
      "Query number: 362 started\n"
     ]
    },
    {
     "name": "stderr",
     "output_type": "stream",
     "text": [
      "                                                              \r"
     ]
    },
    {
     "name": "stdout",
     "output_type": "stream",
     "text": [
      "Query number: 362 ended\n",
      "Query number: 363 started\n"
     ]
    },
    {
     "name": "stderr",
     "output_type": "stream",
     "text": [
      "                                                              \r"
     ]
    },
    {
     "name": "stdout",
     "output_type": "stream",
     "text": [
      "Query number: 363 ended\n",
      "Query number: 364 started\n"
     ]
    },
    {
     "name": "stderr",
     "output_type": "stream",
     "text": [
      "                                                              \r"
     ]
    },
    {
     "name": "stdout",
     "output_type": "stream",
     "text": [
      "Query number: 364 ended\n",
      "Query number: 365 started\n"
     ]
    },
    {
     "name": "stderr",
     "output_type": "stream",
     "text": [
      "                                                              \r"
     ]
    },
    {
     "name": "stdout",
     "output_type": "stream",
     "text": [
      "Error: no successful change\n",
      "the yellow block is no longer clear\n",
      "['the orange block is clear', 'the red block is clear', 'the hand is holding the red block', 'the red block is in the hand', 'the yellow block is on top of the blue block', 'the blue block is on the table', 'the orange block is on the table']\n",
      "Error in query 365: ERROR\n",
      "Query number: 365 ended\n",
      "Query number: 366 started\n"
     ]
    },
    {
     "name": "stderr",
     "output_type": "stream",
     "text": [
      "                                                              \r"
     ]
    },
    {
     "name": "stdout",
     "output_type": "stream",
     "text": [
      "Query number: 366 ended\n",
      "Query number: 367 started\n"
     ]
    },
    {
     "name": "stderr",
     "output_type": "stream",
     "text": [
      "                                                      \r"
     ]
    },
    {
     "name": "stdout",
     "output_type": "stream",
     "text": [
      "Error: no successful change\n",
      "the yellow block is no longer clear\n",
      "['the red block is clear', 'the hand is holding the red block', 'the red block is in the hand', 'the blue block is on top of the orange block', 'the yellow block is on top of the blue block', 'the orange block is on the table']\n",
      "Error in query 367: ERROR\n",
      "Query number: 367 ended\n",
      "Query number: 368 started\n"
     ]
    },
    {
     "name": "stderr",
     "output_type": "stream",
     "text": [
      "                                                              \r"
     ]
    },
    {
     "name": "stdout",
     "output_type": "stream",
     "text": [
      "Query number: 368 ended\n",
      "Query number: 369 started\n"
     ]
    },
    {
     "name": "stderr",
     "output_type": "stream",
     "text": [
      "                                                              \r"
     ]
    },
    {
     "name": "stdout",
     "output_type": "stream",
     "text": [
      "Query number: 369 ended\n",
      "Query number: 370 started\n"
     ]
    },
    {
     "name": "stderr",
     "output_type": "stream",
     "text": [
      "                                                              \r"
     ]
    },
    {
     "name": "stdout",
     "output_type": "stream",
     "text": [
      "Query number: 370 ended\n",
      "Query number: 371 started\n"
     ]
    },
    {
     "name": "stderr",
     "output_type": "stream",
     "text": [
      "                                                              \r"
     ]
    },
    {
     "name": "stdout",
     "output_type": "stream",
     "text": [
      "Query number: 371 ended\n",
      "Query number: 372 started\n"
     ]
    },
    {
     "name": "stderr",
     "output_type": "stream",
     "text": [
      "                                                              \r"
     ]
    },
    {
     "name": "stdout",
     "output_type": "stream",
     "text": [
      "Query number: 372 ended\n",
      "Query number: 373 started\n"
     ]
    },
    {
     "name": "stderr",
     "output_type": "stream",
     "text": [
      "                                                              \r"
     ]
    },
    {
     "name": "stdout",
     "output_type": "stream",
     "text": [
      "Query number: 373 ended\n",
      "Query number: 374 started\n"
     ]
    },
    {
     "name": "stderr",
     "output_type": "stream",
     "text": [
      "                                                              \r"
     ]
    },
    {
     "name": "stdout",
     "output_type": "stream",
     "text": [
      "Query number: 374 ended\n",
      "Query number: 375 started\n"
     ]
    },
    {
     "name": "stderr",
     "output_type": "stream",
     "text": [
      "                                                      \r"
     ]
    },
    {
     "name": "stdout",
     "output_type": "stream",
     "text": [
      "Error: no successful change\n",
      "the orange block is no longer clear\n",
      "['the red block is clear', 'the hand is holding the red block', 'the red block is in the hand', 'the blue block is on top of the yellow block', 'the orange block is on top of the blue block', 'the yellow block is on the table']\n",
      "Error in query 375: ERROR\n",
      "Query number: 375 ended\n",
      "Query number: 376 started\n"
     ]
    },
    {
     "name": "stderr",
     "output_type": "stream",
     "text": [
      "                                                              \r"
     ]
    },
    {
     "name": "stdout",
     "output_type": "stream",
     "text": [
      "Query number: 376 ended\n",
      "Query number: 377 started\n"
     ]
    },
    {
     "name": "stderr",
     "output_type": "stream",
     "text": [
      "                                                              \r"
     ]
    },
    {
     "name": "stdout",
     "output_type": "stream",
     "text": [
      "Query number: 377 ended\n",
      "Query number: 378 started\n"
     ]
    },
    {
     "name": "stderr",
     "output_type": "stream",
     "text": [
      "                                                              \r"
     ]
    },
    {
     "name": "stdout",
     "output_type": "stream",
     "text": [
      "Query number: 378 ended\n",
      "Query number: 379 started\n"
     ]
    },
    {
     "name": "stderr",
     "output_type": "stream",
     "text": [
      "                                                              \r"
     ]
    },
    {
     "name": "stdout",
     "output_type": "stream",
     "text": [
      "Query number: 379 ended\n",
      "Query number: 380 started\n"
     ]
    },
    {
     "name": "stderr",
     "output_type": "stream",
     "text": [
      "                                                      \r"
     ]
    },
    {
     "name": "stdout",
     "output_type": "stream",
     "text": [
      "Error: no successful change\n",
      "the orange block is no longer clear\n",
      "['the blue block is clear', 'the hand is holding the blue block', 'the blue block is in the hand', 'the orange block is on top of the red block', 'the red block is on top of the yellow block', 'the yellow block is on the table']\n",
      "Error in query 380: ERROR\n",
      "Query number: 380 ended\n",
      "Query number: 381 started\n"
     ]
    },
    {
     "name": "stderr",
     "output_type": "stream",
     "text": [
      "                                                              \r"
     ]
    },
    {
     "name": "stdout",
     "output_type": "stream",
     "text": [
      "Query number: 381 ended\n",
      "Query number: 382 started\n"
     ]
    },
    {
     "name": "stderr",
     "output_type": "stream",
     "text": [
      "                                                              \r"
     ]
    },
    {
     "name": "stdout",
     "output_type": "stream",
     "text": [
      "Query number: 382 ended\n",
      "Query number: 383 started\n"
     ]
    },
    {
     "name": "stderr",
     "output_type": "stream",
     "text": [
      "                                                      \r"
     ]
    },
    {
     "name": "stdout",
     "output_type": "stream",
     "text": [
      "Error: no successful change\n",
      "the yellow block is no longer clear\n",
      "['the red block is clear', 'the hand is holding the red block', 'the orange block is on top of the blue block', 'the red block is in the hand', 'the yellow block is on top of the orange block', 'the blue block is on the table']\n",
      "Error in query 383: ERROR\n",
      "Query number: 383 ended\n",
      "Query number: 384 started\n"
     ]
    },
    {
     "name": "stderr",
     "output_type": "stream",
     "text": [
      "                                                              \r"
     ]
    },
    {
     "name": "stdout",
     "output_type": "stream",
     "text": [
      "Query number: 384 ended\n",
      "Query number: 385 started\n"
     ]
    },
    {
     "name": "stderr",
     "output_type": "stream",
     "text": [
      "                                                      \r"
     ]
    },
    {
     "name": "stdout",
     "output_type": "stream",
     "text": [
      "Error: no successful change\n",
      "the orange block is no longer clear\n",
      "['the blue block is clear', 'the hand is holding the blue block', 'the red block is on top of the yellow block', 'the blue block is in the hand', 'the orange block is on top of the red block', 'the yellow block is on the table']\n",
      "Error in query 385: ERROR\n",
      "Query number: 385 ended\n",
      "Query number: 386 started\n"
     ]
    },
    {
     "name": "stderr",
     "output_type": "stream",
     "text": [
      "                                                              \r"
     ]
    },
    {
     "name": "stdout",
     "output_type": "stream",
     "text": [
      "Query number: 386 ended\n",
      "Query number: 387 started\n"
     ]
    },
    {
     "name": "stderr",
     "output_type": "stream",
     "text": [
      "                                                              \r"
     ]
    },
    {
     "name": "stdout",
     "output_type": "stream",
     "text": [
      "Query number: 387 ended\n",
      "Query number: 388 started\n"
     ]
    },
    {
     "name": "stderr",
     "output_type": "stream",
     "text": [
      "                                                              \r"
     ]
    },
    {
     "name": "stdout",
     "output_type": "stream",
     "text": [
      "Query number: 388 ended\n",
      "Query number: 389 started\n"
     ]
    },
    {
     "name": "stderr",
     "output_type": "stream",
     "text": [
      "                                                              \r"
     ]
    },
    {
     "name": "stdout",
     "output_type": "stream",
     "text": [
      "Query number: 389 ended\n",
      "Query number: 390 started\n"
     ]
    },
    {
     "name": "stderr",
     "output_type": "stream",
     "text": [
      "                                                              \r"
     ]
    },
    {
     "name": "stdout",
     "output_type": "stream",
     "text": [
      "Query number: 390 ended\n",
      "Query number: 391 started\n"
     ]
    },
    {
     "name": "stderr",
     "output_type": "stream",
     "text": [
      "                                                              \r"
     ]
    },
    {
     "name": "stdout",
     "output_type": "stream",
     "text": [
      "Query number: 391 ended\n",
      "Query number: 392 started\n"
     ]
    },
    {
     "name": "stderr",
     "output_type": "stream",
     "text": [
      "                                                               \r"
     ]
    },
    {
     "name": "stdout",
     "output_type": "stream",
     "text": [
      "Query number: 392 ended\n",
      "Query number: 393 started\n"
     ]
    },
    {
     "name": "stderr",
     "output_type": "stream",
     "text": [
      "                                                              \r"
     ]
    },
    {
     "name": "stdout",
     "output_type": "stream",
     "text": [
      "Query number: 393 ended\n",
      "Query number: 394 started\n"
     ]
    },
    {
     "name": "stderr",
     "output_type": "stream",
     "text": [
      "                                                              \r"
     ]
    },
    {
     "name": "stdout",
     "output_type": "stream",
     "text": [
      "Query number: 394 ended\n",
      "Query number: 395 started\n"
     ]
    },
    {
     "name": "stderr",
     "output_type": "stream",
     "text": [
      "                                                              \r"
     ]
    },
    {
     "name": "stdout",
     "output_type": "stream",
     "text": [
      "Query number: 395 ended\n",
      "Query number: 396 started\n"
     ]
    },
    {
     "name": "stderr",
     "output_type": "stream",
     "text": [
      "                                                              \r"
     ]
    },
    {
     "name": "stdout",
     "output_type": "stream",
     "text": [
      "Query number: 396 ended\n",
      "Query number: 397 started\n"
     ]
    },
    {
     "name": "stderr",
     "output_type": "stream",
     "text": [
      "                                                      \r"
     ]
    },
    {
     "name": "stdout",
     "output_type": "stream",
     "text": [
      "Error: no successful change\n",
      "the yellow block is no longer clear\n",
      "['the blue block is clear', 'the hand is holding the blue block', 'the blue block is in the hand', 'the orange block is on top of the red block', 'the yellow block is on top of the orange block', 'the red block is on the table']\n",
      "Error in query 397: ERROR\n",
      "Query number: 397 ended\n",
      "Query number: 398 started\n"
     ]
    },
    {
     "name": "stderr",
     "output_type": "stream",
     "text": [
      "                                                              \r"
     ]
    },
    {
     "name": "stdout",
     "output_type": "stream",
     "text": [
      "Error: no successful change\n",
      "the yellow block is no longer clear\n",
      "['the red block is clear', 'the hand is holding the red block', 'the blue block is on top of the orange block', 'the red block is in the hand', 'the yellow block is on top of the blue block', 'the orange block is on the table']\n",
      "Error in query 398: ERROR\n",
      "Query number: 398 ended\n",
      "Query number: 399 started\n"
     ]
    },
    {
     "name": "stderr",
     "output_type": "stream",
     "text": [
      "                                                              \r"
     ]
    },
    {
     "name": "stdout",
     "output_type": "stream",
     "text": [
      "Query number: 399 ended\n",
      "Query number: 400 started\n"
     ]
    },
    {
     "name": "stderr",
     "output_type": "stream",
     "text": [
      "                                                              \r"
     ]
    },
    {
     "name": "stdout",
     "output_type": "stream",
     "text": [
      "Query number: 400 ended\n",
      "Query number: 401 started\n"
     ]
    },
    {
     "name": "stderr",
     "output_type": "stream",
     "text": [
      "                                                              \r"
     ]
    },
    {
     "name": "stdout",
     "output_type": "stream",
     "text": [
      "Query number: 401 ended\n",
      "Query number: 402 started\n"
     ]
    },
    {
     "name": "stderr",
     "output_type": "stream",
     "text": [
      "                                                              \r"
     ]
    },
    {
     "name": "stdout",
     "output_type": "stream",
     "text": [
      "Query number: 402 ended\n",
      "Query number: 403 started\n"
     ]
    },
    {
     "name": "stderr",
     "output_type": "stream",
     "text": [
      "                                                      \r"
     ]
    },
    {
     "name": "stdout",
     "output_type": "stream",
     "text": [
      "Error: no successful change\n",
      "the orange block is no longer clear\n",
      "['the blue block is clear', 'the hand is holding the blue block', 'the blue block is in the hand', 'the orange block is on top of the yellow block', 'the yellow block is on top of the red block', 'the red block is on the table']\n",
      "Error in query 403: ERROR\n",
      "Query number: 403 ended\n",
      "Query number: 404 started\n"
     ]
    },
    {
     "name": "stderr",
     "output_type": "stream",
     "text": [
      "                                                              \r"
     ]
    },
    {
     "name": "stdout",
     "output_type": "stream",
     "text": [
      "Query number: 404 ended\n",
      "Query number: 405 started\n"
     ]
    },
    {
     "name": "stderr",
     "output_type": "stream",
     "text": [
      "                                                              \r"
     ]
    },
    {
     "name": "stdout",
     "output_type": "stream",
     "text": [
      "Query number: 405 ended\n",
      "Query number: 406 started\n"
     ]
    },
    {
     "name": "stderr",
     "output_type": "stream",
     "text": [
      "                                                      \r"
     ]
    },
    {
     "name": "stdout",
     "output_type": "stream",
     "text": [
      "Error: no successful change\n",
      "the yellow block is no longer clear\n",
      "['the blue block is clear', 'the hand is holding the blue block', 'the red block is on top of the orange block', 'the blue block is in the hand', 'the yellow block is on top of the red block', 'the orange block is on the table']\n",
      "Error in query 406: ERROR\n",
      "Query number: 406 ended\n",
      "Query number: 407 started\n"
     ]
    },
    {
     "name": "stderr",
     "output_type": "stream",
     "text": [
      "                                                              \r"
     ]
    },
    {
     "name": "stdout",
     "output_type": "stream",
     "text": [
      "Query number: 407 ended\n",
      "Query number: 408 started\n"
     ]
    },
    {
     "name": "stderr",
     "output_type": "stream",
     "text": [
      "                                                              \r"
     ]
    },
    {
     "name": "stdout",
     "output_type": "stream",
     "text": [
      "Query number: 408 ended\n",
      "Query number: 409 started\n"
     ]
    },
    {
     "name": "stderr",
     "output_type": "stream",
     "text": [
      "                                                              \r"
     ]
    },
    {
     "name": "stdout",
     "output_type": "stream",
     "text": [
      "Error: no successful change\n",
      "the yellow block is no longer clear\n",
      "['the red block is clear', 'the hand is holding the red block', 'the blue block is on top of the orange block', 'the red block is in the hand', 'the yellow block is on top of the blue block', 'the orange block is on the table']\n",
      "Error in query 409: ERROR\n",
      "Query number: 409 ended\n",
      "Query number: 410 started\n"
     ]
    },
    {
     "name": "stderr",
     "output_type": "stream",
     "text": [
      "                                                              \r"
     ]
    },
    {
     "name": "stdout",
     "output_type": "stream",
     "text": [
      "Query number: 410 ended\n",
      "Query number: 411 started\n"
     ]
    },
    {
     "name": "stderr",
     "output_type": "stream",
     "text": [
      "                                                              \r"
     ]
    },
    {
     "name": "stdout",
     "output_type": "stream",
     "text": [
      "Query number: 411 ended\n",
      "Query number: 412 started\n"
     ]
    },
    {
     "name": "stderr",
     "output_type": "stream",
     "text": [
      "                                                      \r"
     ]
    },
    {
     "name": "stdout",
     "output_type": "stream",
     "text": [
      "Error: no successful change\n",
      "the orange block is no longer clear\n",
      "['the red block is clear', 'the hand is holding the red block', 'the red block is in the hand', 'the orange block is on top of the yellow block', 'the yellow block is on top of the blue block', 'the blue block is on the table']\n",
      "Error in query 412: ERROR\n",
      "Query number: 412 ended\n",
      "Query number: 413 started\n"
     ]
    },
    {
     "name": "stderr",
     "output_type": "stream",
     "text": [
      "                                                              \r"
     ]
    },
    {
     "name": "stdout",
     "output_type": "stream",
     "text": [
      "Query number: 413 ended\n",
      "Query number: 414 started\n"
     ]
    },
    {
     "name": "stderr",
     "output_type": "stream",
     "text": [
      "                                                              \r"
     ]
    },
    {
     "name": "stdout",
     "output_type": "stream",
     "text": [
      "Query number: 414 ended\n",
      "Query number: 415 started\n"
     ]
    },
    {
     "name": "stderr",
     "output_type": "stream",
     "text": [
      "                                                      \r"
     ]
    },
    {
     "name": "stdout",
     "output_type": "stream",
     "text": [
      "Error: no successful change\n",
      "the orange block is no longer clear\n",
      "['the blue block is clear', 'the hand is holding the blue block', 'the red block is on top of the yellow block', 'the blue block is in the hand', 'the orange block is on top of the red block', 'the yellow block is on the table']\n",
      "Error in query 415: ERROR\n",
      "Query number: 415 ended\n",
      "Query number: 416 started\n"
     ]
    },
    {
     "name": "stderr",
     "output_type": "stream",
     "text": [
      "                                                      \r"
     ]
    },
    {
     "name": "stdout",
     "output_type": "stream",
     "text": [
      "Error: no successful change\n",
      "the orange block is no longer clear\n",
      "['the blue block is clear', 'the hand is holding the blue block', 'the blue block is in the hand', 'the orange block is on top of the yellow block', 'the yellow block is on top of the red block', 'the red block is on the table']\n",
      "Error in query 416: ERROR\n",
      "Query number: 416 ended\n",
      "Query number: 417 started\n"
     ]
    },
    {
     "name": "stderr",
     "output_type": "stream",
     "text": [
      "                                                              \r"
     ]
    },
    {
     "name": "stdout",
     "output_type": "stream",
     "text": [
      "Error: no successful change\n",
      "the orange block is no longer clear\n",
      "['the blue block is clear', 'the hand is holding the blue block', 'the blue block is in the hand', 'the orange block is on top of the red block', 'the red block is on top of the yellow block', 'the yellow block is on the table']\n",
      "Error in query 417: ERROR\n",
      "Query number: 417 ended\n",
      "Query number: 418 started\n"
     ]
    },
    {
     "name": "stderr",
     "output_type": "stream",
     "text": [
      "                                                              \r"
     ]
    },
    {
     "name": "stdout",
     "output_type": "stream",
     "text": [
      "Query number: 418 ended\n",
      "Query number: 419 started\n"
     ]
    },
    {
     "name": "stderr",
     "output_type": "stream",
     "text": [
      "                                                              \r"
     ]
    },
    {
     "name": "stdout",
     "output_type": "stream",
     "text": [
      "Query number: 419 ended\n",
      "Query number: 420 started\n"
     ]
    },
    {
     "name": "stderr",
     "output_type": "stream",
     "text": [
      "                                                              \r"
     ]
    },
    {
     "name": "stdout",
     "output_type": "stream",
     "text": [
      "Query number: 420 ended\n",
      "Query number: 421 started\n"
     ]
    },
    {
     "name": "stderr",
     "output_type": "stream",
     "text": [
      "                                                              \r"
     ]
    },
    {
     "name": "stdout",
     "output_type": "stream",
     "text": [
      "Query number: 421 ended\n",
      "Query number: 422 started\n"
     ]
    },
    {
     "name": "stderr",
     "output_type": "stream",
     "text": [
      "                                                      \r"
     ]
    },
    {
     "name": "stdout",
     "output_type": "stream",
     "text": [
      "Error: no successful change\n",
      "the yellow block is no longer clear\n",
      "['the red block is clear', 'the hand is holding the red block', 'the orange block is on top of the blue block', 'the red block is in the hand', 'the yellow block is on top of the orange block', 'the blue block is on the table']\n",
      "Error in query 422: ERROR\n",
      "Query number: 422 ended\n",
      "Query number: 423 started\n"
     ]
    },
    {
     "name": "stderr",
     "output_type": "stream",
     "text": [
      "                                                              \r"
     ]
    },
    {
     "name": "stdout",
     "output_type": "stream",
     "text": [
      "Query number: 423 ended\n",
      "Query number: 424 started\n"
     ]
    },
    {
     "name": "stderr",
     "output_type": "stream",
     "text": [
      "                                                              \r"
     ]
    },
    {
     "name": "stdout",
     "output_type": "stream",
     "text": [
      "Query number: 424 ended\n",
      "Query number: 425 started\n"
     ]
    },
    {
     "name": "stderr",
     "output_type": "stream",
     "text": [
      "                                                      \r"
     ]
    },
    {
     "name": "stdout",
     "output_type": "stream",
     "text": [
      "Error: no successful change\n",
      "the orange block is no longer clear\n",
      "['the blue block is clear', 'the hand is holding the blue block', 'the blue block is in the hand', 'the orange block is on top of the yellow block', 'the yellow block is on top of the red block', 'the red block is on the table']\n",
      "Error in query 425: ERROR\n",
      "Query number: 425 ended\n",
      "Query number: 426 started\n"
     ]
    },
    {
     "name": "stderr",
     "output_type": "stream",
     "text": [
      "                                                              \r"
     ]
    },
    {
     "name": "stdout",
     "output_type": "stream",
     "text": [
      "Query number: 426 ended\n",
      "Query number: 427 started\n"
     ]
    },
    {
     "name": "stderr",
     "output_type": "stream",
     "text": [
      "                                                              \r"
     ]
    },
    {
     "name": "stdout",
     "output_type": "stream",
     "text": [
      "Query number: 427 ended\n",
      "Query number: 428 started\n"
     ]
    },
    {
     "name": "stderr",
     "output_type": "stream",
     "text": [
      "                                                              \r"
     ]
    },
    {
     "name": "stdout",
     "output_type": "stream",
     "text": [
      "Query number: 428 ended\n",
      "Query number: 429 started\n"
     ]
    },
    {
     "name": "stderr",
     "output_type": "stream",
     "text": [
      "                                                              \r"
     ]
    },
    {
     "name": "stdout",
     "output_type": "stream",
     "text": [
      "Query number: 429 ended\n",
      "Query number: 430 started\n"
     ]
    },
    {
     "name": "stderr",
     "output_type": "stream",
     "text": [
      "                                                              \r"
     ]
    },
    {
     "name": "stdout",
     "output_type": "stream",
     "text": [
      "Query number: 430 ended\n",
      "Query number: 431 started\n"
     ]
    },
    {
     "name": "stderr",
     "output_type": "stream",
     "text": [
      "                                                      \r"
     ]
    },
    {
     "name": "stdout",
     "output_type": "stream",
     "text": [
      "Error: no successful change\n",
      "the yellow block is no longer clear\n",
      "['the blue block is clear', 'the hand is holding the blue block', 'the red block is on top of the orange block', 'the blue block is in the hand', 'the yellow block is on top of the red block', 'the orange block is on the table']\n",
      "Error in query 431: ERROR\n",
      "Query number: 431 ended\n",
      "Query number: 432 started\n"
     ]
    },
    {
     "name": "stderr",
     "output_type": "stream",
     "text": [
      "                                                              \r"
     ]
    },
    {
     "name": "stdout",
     "output_type": "stream",
     "text": [
      "Query number: 432 ended\n",
      "Query number: 433 started\n"
     ]
    },
    {
     "name": "stderr",
     "output_type": "stream",
     "text": [
      "                                                              \r"
     ]
    },
    {
     "name": "stdout",
     "output_type": "stream",
     "text": [
      "Query number: 433 ended\n",
      "Query number: 434 started\n"
     ]
    },
    {
     "name": "stderr",
     "output_type": "stream",
     "text": [
      "                                                              \r"
     ]
    },
    {
     "name": "stdout",
     "output_type": "stream",
     "text": [
      "Query number: 434 ended\n",
      "Query number: 435 started\n"
     ]
    },
    {
     "name": "stderr",
     "output_type": "stream",
     "text": [
      "                                                               \r"
     ]
    },
    {
     "name": "stdout",
     "output_type": "stream",
     "text": [
      "Query number: 435 ended\n",
      "Query number: 436 started\n"
     ]
    },
    {
     "name": "stderr",
     "output_type": "stream",
     "text": [
      "                                                              \r"
     ]
    },
    {
     "name": "stdout",
     "output_type": "stream",
     "text": [
      "Query number: 436 ended\n",
      "Query number: 437 started\n"
     ]
    },
    {
     "name": "stderr",
     "output_type": "stream",
     "text": [
      "                                                              \r"
     ]
    },
    {
     "name": "stdout",
     "output_type": "stream",
     "text": [
      "Query number: 437 ended\n",
      "Query number: 438 started\n"
     ]
    },
    {
     "name": "stderr",
     "output_type": "stream",
     "text": [
      "                                                              \r"
     ]
    },
    {
     "name": "stdout",
     "output_type": "stream",
     "text": [
      "Error: no successful change\n",
      "the orange block is no longer clear\n",
      "['the blue block is clear', 'the hand is holding the blue block', 'the blue block is in the hand', 'the orange block is on top of the red block', 'the red block is on top of the yellow block', 'the yellow block is on the table']\n",
      "Error in query 438: ERROR\n",
      "Query number: 438 ended\n",
      "Query number: 439 started\n"
     ]
    },
    {
     "name": "stderr",
     "output_type": "stream",
     "text": [
      "                                                              \r"
     ]
    },
    {
     "name": "stdout",
     "output_type": "stream",
     "text": [
      "Query number: 439 ended\n",
      "Query number: 440 started\n"
     ]
    },
    {
     "name": "stderr",
     "output_type": "stream",
     "text": [
      "                                                              \r"
     ]
    },
    {
     "name": "stdout",
     "output_type": "stream",
     "text": [
      "Query number: 440 ended\n",
      "Query number: 441 started\n"
     ]
    },
    {
     "name": "stderr",
     "output_type": "stream",
     "text": [
      "                                                              \r"
     ]
    },
    {
     "name": "stdout",
     "output_type": "stream",
     "text": [
      "Query number: 441 ended\n",
      "Query number: 442 started\n"
     ]
    },
    {
     "name": "stderr",
     "output_type": "stream",
     "text": [
      "                                                              \r"
     ]
    },
    {
     "name": "stdout",
     "output_type": "stream",
     "text": [
      "Query number: 442 ended\n",
      "Query number: 443 started\n"
     ]
    },
    {
     "name": "stderr",
     "output_type": "stream",
     "text": [
      "                                                              \r"
     ]
    },
    {
     "name": "stdout",
     "output_type": "stream",
     "text": [
      "Query number: 443 ended\n",
      "Query number: 444 started\n"
     ]
    },
    {
     "name": "stderr",
     "output_type": "stream",
     "text": [
      "                                                              \r"
     ]
    },
    {
     "name": "stdout",
     "output_type": "stream",
     "text": [
      "Query number: 444 ended\n",
      "Query number: 445 started\n"
     ]
    },
    {
     "name": "stderr",
     "output_type": "stream",
     "text": [
      "                                                              \r"
     ]
    },
    {
     "name": "stdout",
     "output_type": "stream",
     "text": [
      "Query number: 445 ended\n",
      "Query number: 446 started\n"
     ]
    },
    {
     "name": "stderr",
     "output_type": "stream",
     "text": [
      "                                                              \r"
     ]
    },
    {
     "name": "stdout",
     "output_type": "stream",
     "text": [
      "Query number: 446 ended\n",
      "Query number: 447 started\n"
     ]
    },
    {
     "name": "stderr",
     "output_type": "stream",
     "text": [
      "                                                              \r"
     ]
    },
    {
     "name": "stdout",
     "output_type": "stream",
     "text": [
      "Query number: 447 ended\n",
      "Query number: 448 started\n"
     ]
    },
    {
     "name": "stderr",
     "output_type": "stream",
     "text": [
      "                                                              \r"
     ]
    },
    {
     "name": "stdout",
     "output_type": "stream",
     "text": [
      "Query number: 448 ended\n",
      "Query number: 449 started\n"
     ]
    },
    {
     "name": "stderr",
     "output_type": "stream",
     "text": [
      "                                                               \r"
     ]
    },
    {
     "name": "stdout",
     "output_type": "stream",
     "text": [
      "Query number: 449 ended\n",
      "Query number: 450 started\n"
     ]
    },
    {
     "name": "stderr",
     "output_type": "stream",
     "text": [
      "                                                              \r"
     ]
    },
    {
     "name": "stdout",
     "output_type": "stream",
     "text": [
      "Query number: 450 ended\n",
      "Query number: 451 started\n"
     ]
    },
    {
     "name": "stderr",
     "output_type": "stream",
     "text": [
      "                                                              \r"
     ]
    },
    {
     "name": "stdout",
     "output_type": "stream",
     "text": [
      "Query number: 451 ended\n",
      "Query number: 452 started\n"
     ]
    },
    {
     "name": "stderr",
     "output_type": "stream",
     "text": [
      "                                                      \r"
     ]
    },
    {
     "name": "stdout",
     "output_type": "stream",
     "text": [
      "Error: no successful change\n",
      "the orange block is no longer clear\n",
      "['the blue block is clear', 'the hand is holding the blue block', 'the blue block is in the hand', 'the orange block is on top of the yellow block', 'the yellow block is on top of the white block', 'the white block is on top of the red block', 'the red block is on the table']\n",
      "Error in query 452: ERROR\n",
      "Query number: 452 ended\n",
      "Query number: 453 started\n"
     ]
    },
    {
     "name": "stderr",
     "output_type": "stream",
     "text": [
      "                                                              \r"
     ]
    },
    {
     "name": "stdout",
     "output_type": "stream",
     "text": [
      "Query number: 453 ended\n",
      "Query number: 454 started\n"
     ]
    },
    {
     "name": "stderr",
     "output_type": "stream",
     "text": [
      "                                                              \r"
     ]
    },
    {
     "name": "stdout",
     "output_type": "stream",
     "text": [
      "Query number: 454 ended\n",
      "Query number: 455 started\n"
     ]
    },
    {
     "name": "stderr",
     "output_type": "stream",
     "text": [
      "                                                              \r"
     ]
    },
    {
     "name": "stdout",
     "output_type": "stream",
     "text": [
      "Query number: 455 ended\n",
      "Query number: 456 started\n"
     ]
    },
    {
     "name": "stderr",
     "output_type": "stream",
     "text": [
      "                                                              \r"
     ]
    },
    {
     "name": "stdout",
     "output_type": "stream",
     "text": [
      "Query number: 456 ended\n",
      "Query number: 457 started\n"
     ]
    },
    {
     "name": "stderr",
     "output_type": "stream",
     "text": [
      "                                                              \r"
     ]
    },
    {
     "name": "stdout",
     "output_type": "stream",
     "text": [
      "Query number: 457 ended\n",
      "Query number: 458 started\n"
     ]
    },
    {
     "name": "stderr",
     "output_type": "stream",
     "text": [
      "                                                              \r"
     ]
    },
    {
     "name": "stdout",
     "output_type": "stream",
     "text": [
      "Query number: 458 ended\n",
      "Query number: 459 started\n"
     ]
    },
    {
     "name": "stderr",
     "output_type": "stream",
     "text": [
      "                                                      \r"
     ]
    },
    {
     "name": "stdout",
     "output_type": "stream",
     "text": [
      "Error: no successful change\n",
      "the yellow block is no longer clear\n",
      "['the orange block is clear', 'the red block is clear', 'the white block is clear', 'the hand is holding the white block', 'the white block is in the hand', 'the yellow block is on top of the blue block', 'the blue block is on the table', 'the orange block is on the table', 'the red block is on the table']\n",
      "Error in query 459: ERROR\n",
      "Query number: 459 ended\n",
      "Query number: 460 started\n"
     ]
    },
    {
     "name": "stderr",
     "output_type": "stream",
     "text": [
      "                                                              \r"
     ]
    },
    {
     "name": "stdout",
     "output_type": "stream",
     "text": [
      "Error: no successful change\n",
      "the white block is no longer clear\n",
      "['the orange block is clear', 'the hand is holding the orange block', 'the orange block is in the hand', 'the red block is on top of the blue block', 'the white block is on top of the yellow block', 'the yellow block is on top of the red block', 'the blue block is on the table']\n",
      "Error in query 460: ERROR\n",
      "Query number: 460 ended\n",
      "Query number: 461 started\n"
     ]
    },
    {
     "name": "stderr",
     "output_type": "stream",
     "text": [
      "                                                              \r"
     ]
    },
    {
     "name": "stdout",
     "output_type": "stream",
     "text": [
      "Error: no successful change\n",
      "the yellow block is no longer clear\n",
      "['the red block is clear', 'the white block is clear', 'the hand is holding the white block', 'the orange block is on top of the blue block', 'the white block is in the hand', 'the yellow block is on top of the orange block', 'the blue block is on the table', 'the red block is on the table']\n",
      "Error in query 461: ERROR\n",
      "Query number: 461 ended\n",
      "Query number: 462 started\n"
     ]
    },
    {
     "name": "stderr",
     "output_type": "stream",
     "text": [
      "                                                              \r"
     ]
    },
    {
     "name": "stdout",
     "output_type": "stream",
     "text": [
      "Query number: 462 ended\n",
      "Query number: 463 started\n"
     ]
    },
    {
     "name": "stderr",
     "output_type": "stream",
     "text": [
      "                                                              \r"
     ]
    },
    {
     "name": "stdout",
     "output_type": "stream",
     "text": [
      "Query number: 463 ended\n",
      "Query number: 464 started\n"
     ]
    },
    {
     "name": "stderr",
     "output_type": "stream",
     "text": [
      "                                                              \r"
     ]
    },
    {
     "name": "stdout",
     "output_type": "stream",
     "text": [
      "Query number: 464 ended\n",
      "Query number: 465 started\n"
     ]
    },
    {
     "name": "stderr",
     "output_type": "stream",
     "text": [
      "                                                              \r"
     ]
    },
    {
     "name": "stdout",
     "output_type": "stream",
     "text": [
      "Query number: 465 ended\n",
      "Query number: 466 started\n"
     ]
    },
    {
     "name": "stderr",
     "output_type": "stream",
     "text": [
      "                                                               \r"
     ]
    },
    {
     "name": "stdout",
     "output_type": "stream",
     "text": [
      "Query number: 466 ended\n",
      "Query number: 467 started\n"
     ]
    },
    {
     "name": "stderr",
     "output_type": "stream",
     "text": [
      "                                                      \r"
     ]
    },
    {
     "name": "stdout",
     "output_type": "stream",
     "text": [
      "Error: no successful change\n",
      "the white block is no longer clear\n",
      "['the blue block is clear', 'the hand is holding the blue block', 'the blue block is in the hand', 'the orange block is on top of the red block', 'the red block is on top of the yellow block', 'the white block is on top of the orange block', 'the yellow block is on the table']\n",
      "Error in query 467: ERROR\n",
      "Query number: 467 ended\n",
      "Query number: 468 started\n"
     ]
    },
    {
     "name": "stderr",
     "output_type": "stream",
     "text": [
      "                                                              \r"
     ]
    },
    {
     "name": "stdout",
     "output_type": "stream",
     "text": [
      "Query number: 468 ended\n",
      "Query number: 469 started\n"
     ]
    },
    {
     "name": "stderr",
     "output_type": "stream",
     "text": [
      "                                                      \r"
     ]
    },
    {
     "name": "stdout",
     "output_type": "stream",
     "text": [
      "Error: no successful change\n",
      "the yellow block is no longer clear\n",
      "['the red block is clear', 'the white block is clear', 'the hand is holding the white block', 'the orange block is on top of the blue block', 'the white block is in the hand', 'the yellow block is on top of the orange block', 'the blue block is on the table', 'the red block is on the table']\n",
      "Error in query 469: ERROR\n",
      "Query number: 469 ended\n",
      "Query number: 470 started\n"
     ]
    },
    {
     "name": "stderr",
     "output_type": "stream",
     "text": [
      "                                                      \r"
     ]
    },
    {
     "name": "stdout",
     "output_type": "stream",
     "text": [
      "Error: no successful change\n",
      "the orange block is no longer clear\n",
      "['the red block is clear', 'the blue block is clear', 'the hand is holding the red block', 'the red block is in the hand', 'the orange block is on top of the white block', 'the white block is on top of the yellow block', 'the blue block is on the table', 'the yellow block is on the table']\n",
      "Error in query 470: ERROR\n",
      "Query number: 470 ended\n",
      "Query number: 471 started\n"
     ]
    },
    {
     "name": "stderr",
     "output_type": "stream",
     "text": [
      "                                                              \r"
     ]
    },
    {
     "name": "stdout",
     "output_type": "stream",
     "text": [
      "Error: no successful change\n",
      "the white block is no longer clear\n",
      "['the blue block is clear', 'the hand is holding the blue block', 'the blue block is in the hand', 'the red block is on top of the yellow block', 'the white block is on top of the red block', 'the yellow block is on top of the orange block', 'the orange block is on the table']\n",
      "Error in query 471: ERROR\n",
      "Query number: 471 ended\n",
      "Query number: 472 started\n"
     ]
    },
    {
     "name": "stderr",
     "output_type": "stream",
     "text": [
      "                                                              \r"
     ]
    },
    {
     "name": "stdout",
     "output_type": "stream",
     "text": [
      "Error: no successful change\n",
      "the orange block is no longer clear\n",
      "['the blue block is clear', 'the red block is clear', 'the hand is holding the blue block', 'the blue block is in the hand', 'the orange block is on top of the white block', 'the red block is on top of the yellow block', 'the white block is on the table', 'the yellow block is on the table']\n",
      "Error in query 472: ERROR\n",
      "Query number: 472 ended\n",
      "Query number: 473 started\n"
     ]
    },
    {
     "name": "stderr",
     "output_type": "stream",
     "text": [
      "                                                              \r"
     ]
    },
    {
     "name": "stdout",
     "output_type": "stream",
     "text": [
      "Error: no successful change\n",
      "the yellow block is no longer clear\n",
      "['the blue block is clear', 'the orange block is clear', 'the red block is clear', 'the white block is clear', 'the hand is holding the white block', 'the white block is in the hand', 'the blue block is on the table', 'the orange block is on the table', 'the red block is on the table', 'the yellow block is on the table']\n",
      "Error in query 473: ERROR\n",
      "Query number: 473 ended\n",
      "Query number: 474 started\n"
     ]
    },
    {
     "name": "stderr",
     "output_type": "stream",
     "text": [
      "                                                              \r"
     ]
    },
    {
     "name": "stdout",
     "output_type": "stream",
     "text": [
      "Error: no successful change\n",
      "the yellow block is no longer clear\n",
      "['the blue block is clear', 'the orange block is clear', 'the hand is holding the orange block', 'the blue block is on top of the white block', 'the orange block is in the hand', 'the yellow block is on top of the red block', 'the red block is on the table', 'the white block is on the table']\n",
      "Error in query 474: ERROR\n",
      "Query number: 474 ended\n",
      "Query number: 475 started\n"
     ]
    },
    {
     "name": "stderr",
     "output_type": "stream",
     "text": [
      "                                                              \r"
     ]
    },
    {
     "name": "stdout",
     "output_type": "stream",
     "text": [
      "Query number: 475 ended\n",
      "Query number: 476 started\n"
     ]
    },
    {
     "name": "stderr",
     "output_type": "stream",
     "text": [
      "                                                      \r"
     ]
    },
    {
     "name": "stdout",
     "output_type": "stream",
     "text": [
      "Error: no successful change\n",
      "the yellow block is no longer clear\n",
      "['the orange block is clear', 'the hand is holding the orange block', 'the red block is on top of the blue block', 'the orange block is in the hand', 'the yellow block is on top of the white block', 'the white block is on top of the red block', 'the blue block is on the table']\n",
      "Error in query 476: ERROR\n",
      "Query number: 476 ended\n",
      "Query number: 477 started\n"
     ]
    },
    {
     "name": "stderr",
     "output_type": "stream",
     "text": [
      "                                                              \r"
     ]
    },
    {
     "name": "stdout",
     "output_type": "stream",
     "text": [
      "Query number: 477 ended\n",
      "Query number: 478 started\n"
     ]
    },
    {
     "name": "stderr",
     "output_type": "stream",
     "text": [
      "                                                              \r"
     ]
    },
    {
     "name": "stdout",
     "output_type": "stream",
     "text": [
      "Query number: 478 ended\n",
      "Query number: 479 started\n"
     ]
    },
    {
     "name": "stderr",
     "output_type": "stream",
     "text": [
      "                                                              \r"
     ]
    },
    {
     "name": "stdout",
     "output_type": "stream",
     "text": [
      "Error: no successful change\n",
      "the yellow block is no longer clear\n",
      "['the white block is clear', 'the hand is holding the white block', 'the blue block is on top of the orange block', 'the red block is on top of the blue block', 'the white block is in the hand', 'the yellow block is on top of the red block', 'the orange block is on the table']\n",
      "Error in query 479: ERROR\n",
      "Query number: 479 ended\n",
      "Query number: 480 started\n"
     ]
    },
    {
     "name": "stderr",
     "output_type": "stream",
     "text": [
      "                                                              \r"
     ]
    },
    {
     "name": "stdout",
     "output_type": "stream",
     "text": [
      "Query number: 480 ended\n",
      "Query number: 481 started\n"
     ]
    },
    {
     "name": "stderr",
     "output_type": "stream",
     "text": [
      "                                                              \r"
     ]
    },
    {
     "name": "stdout",
     "output_type": "stream",
     "text": [
      "Query number: 481 ended\n",
      "Query number: 482 started\n"
     ]
    },
    {
     "name": "stderr",
     "output_type": "stream",
     "text": [
      "                                                              \r"
     ]
    },
    {
     "name": "stdout",
     "output_type": "stream",
     "text": [
      "Query number: 482 ended\n",
      "Query number: 483 started\n"
     ]
    },
    {
     "name": "stderr",
     "output_type": "stream",
     "text": [
      "                                                      \r"
     ]
    },
    {
     "name": "stdout",
     "output_type": "stream",
     "text": [
      "Error: no successful change\n",
      "the white block is no longer clear\n",
      "['the red block is clear', 'the blue block is clear', 'the yellow block is clear', 'the hand is holding the blue block', 'the blue block is in the hand', 'the white block is on top of the orange block', 'the red block is on the table', 'the orange block is on the table', 'the yellow block is on the table']\n",
      "Error in query 483: ERROR\n",
      "Query number: 483 ended\n",
      "Query number: 484 started\n"
     ]
    },
    {
     "name": "stderr",
     "output_type": "stream",
     "text": [
      "                                                               \r"
     ]
    },
    {
     "name": "stdout",
     "output_type": "stream",
     "text": [
      "Query number: 484 ended\n",
      "Query number: 485 started\n"
     ]
    },
    {
     "name": "stderr",
     "output_type": "stream",
     "text": [
      "                                                              \r"
     ]
    },
    {
     "name": "stdout",
     "output_type": "stream",
     "text": [
      "Query number: 485 ended\n",
      "Query number: 486 started\n"
     ]
    },
    {
     "name": "stderr",
     "output_type": "stream",
     "text": [
      "                                                      \r"
     ]
    },
    {
     "name": "stdout",
     "output_type": "stream",
     "text": [
      "Error: no successful change\n",
      "the yellow block is no longer clear\n",
      "['the orange block is clear', 'the white block is clear', 'the hand is holding the white block', 'the orange block is on top of the red block', 'the white block is in the hand', 'the yellow block is on top of the blue block', 'the blue block is on the table', 'the red block is on the table']\n",
      "Error in query 486: ERROR\n",
      "Query number: 486 ended\n",
      "Query number: 487 started\n"
     ]
    },
    {
     "name": "stderr",
     "output_type": "stream",
     "text": [
      "                                                              \r"
     ]
    },
    {
     "name": "stdout",
     "output_type": "stream",
     "text": [
      "Query number: 487 ended\n",
      "Query number: 488 started\n"
     ]
    },
    {
     "name": "stderr",
     "output_type": "stream",
     "text": [
      "                                                              \r"
     ]
    },
    {
     "name": "stdout",
     "output_type": "stream",
     "text": [
      "Query number: 488 ended\n",
      "Query number: 489 started\n"
     ]
    },
    {
     "name": "stderr",
     "output_type": "stream",
     "text": [
      "                                                      \r"
     ]
    },
    {
     "name": "stdout",
     "output_type": "stream",
     "text": [
      "Error: no successful change\n",
      "the yellow block is no longer clear\n",
      "['the red block is clear', 'the white block is clear', 'the hand is holding the white block', 'the red block is on top of the blue block', 'the white block is in the hand', 'the yellow block is on top of the orange block', 'the blue block is on the table', 'the orange block is on the table']\n",
      "Error in query 489: ERROR\n",
      "Query number: 489 ended\n",
      "Query number: 490 started\n"
     ]
    },
    {
     "name": "stderr",
     "output_type": "stream",
     "text": [
      "                                                              \r"
     ]
    },
    {
     "name": "stdout",
     "output_type": "stream",
     "text": [
      "Error: no successful change\n",
      "the yellow block is no longer clear\n",
      "['the orange block is clear', 'the white block is clear', 'the hand is holding the white block', 'the orange block is on top of the blue block', 'the white block is in the hand', 'the yellow block is on top of the red block', 'the blue block is on the table', 'the red block is on the table']\n",
      "Error in query 490: ERROR\n",
      "Query number: 490 ended\n",
      "Query number: 491 started\n"
     ]
    },
    {
     "name": "stderr",
     "output_type": "stream",
     "text": [
      "                                                               \r"
     ]
    },
    {
     "name": "stdout",
     "output_type": "stream",
     "text": [
      "Query number: 491 ended\n",
      "Query number: 492 started\n"
     ]
    },
    {
     "name": "stderr",
     "output_type": "stream",
     "text": [
      "                                                              \r"
     ]
    },
    {
     "name": "stdout",
     "output_type": "stream",
     "text": [
      "Query number: 492 ended\n",
      "Query number: 493 started\n"
     ]
    },
    {
     "name": "stderr",
     "output_type": "stream",
     "text": [
      "                                                      \r"
     ]
    },
    {
     "name": "stdout",
     "output_type": "stream",
     "text": [
      "Error: no successful change\n",
      "the yellow block is no longer clear\n",
      "['the red block is clear', 'the blue block is clear', 'the hand is holding the blue block', 'the blue block is in the hand', 'the yellow block is on top of the white block', 'the white block is on top of the orange block', 'the red block is on the table', 'the orange block is on the table']\n",
      "Error in query 493: ERROR\n",
      "Query number: 493 ended\n",
      "Query number: 494 started\n"
     ]
    },
    {
     "name": "stderr",
     "output_type": "stream",
     "text": [
      "                                                      \r"
     ]
    },
    {
     "name": "stdout",
     "output_type": "stream",
     "text": [
      "Error: no successful change\n",
      "the yellow block is no longer clear\n",
      "['the red block is clear', 'the orange block is clear', 'the white block is clear', 'the hand is holding the white block', 'the yellow block is on top of the blue block', 'the white block is in the hand', 'the red block is on the table', 'the blue block is on the table', 'the orange block is on the table']\n",
      "Error in query 494: ERROR\n",
      "Query number: 494 ended\n",
      "Query number: 495 started\n"
     ]
    },
    {
     "name": "stderr",
     "output_type": "stream",
     "text": [
      "                                                              \r"
     ]
    },
    {
     "name": "stdout",
     "output_type": "stream",
     "text": [
      "Query number: 495 ended\n",
      "Query number: 496 started\n"
     ]
    },
    {
     "name": "stderr",
     "output_type": "stream",
     "text": [
      "                                                              \r"
     ]
    },
    {
     "name": "stdout",
     "output_type": "stream",
     "text": [
      "Query number: 496 ended\n",
      "Query number: 497 started\n"
     ]
    },
    {
     "name": "stderr",
     "output_type": "stream",
     "text": [
      "                                                              \r"
     ]
    },
    {
     "name": "stdout",
     "output_type": "stream",
     "text": [
      "Query number: 497 ended\n",
      "Query number: 498 started\n"
     ]
    },
    {
     "name": "stderr",
     "output_type": "stream",
     "text": [
      "                                                              \r"
     ]
    },
    {
     "name": "stdout",
     "output_type": "stream",
     "text": [
      "Error: no successful change\n",
      "the yellow block is no longer clear\n",
      "['the red block is clear', 'the hand is holding the red block', 'the blue block is on top of the orange block', 'the red block is in the hand', 'the yellow block is on top of the blue block', 'the orange block is on the table']\n",
      "Error in query 498: ERROR\n",
      "Query number: 498 ended\n",
      "Query number: 499 started\n"
     ]
    },
    {
     "name": "stderr",
     "output_type": "stream",
     "text": [
      "                                                      "
     ]
    },
    {
     "name": "stdout",
     "output_type": "stream",
     "text": [
      "Error: no successful change\n",
      "the yellow block is no longer clear\n",
      "['the blue block is clear', 'the hand is holding the blue block', 'the blue block is in the hand', 'the orange block is on top of the red block', 'the yellow block is on top of the orange block', 'the red block is on the table']\n",
      "Error in query 499: ERROR\n",
      "Query number: 499 ended\n"
     ]
    },
    {
     "name": "stderr",
     "output_type": "stream",
     "text": [
      "\r"
     ]
    }
   ],
   "source": [
    "with open(\"rap-llama-results.jsonl\", \"w\") as f:\n",
    "    for i, query in enumerate(queries):\n",
    "        print(f'Query number: {i} started')\n",
    "        prompt_i, ground_truth_action_list_i = process_query_data(query)\n",
    "        try:\n",
    "            result_rap = reasoner_rap(prompt_i)\n",
    "            trace, ground_truth_actions = (result_rap.trace[1], ground_truth_action_list_i)\n",
    "        except Exception as e:\n",
    "            trace, ground_truth_actions = ([\"Error\"], ground_truth_action_list_i)\n",
    "            print(f\"Error in query {i}: {e}\")\n",
    "            \n",
    "        entry = {\n",
    "            \"trace\": trace,\n",
    "            \"ground_truth\": ground_truth_actions\n",
    "        }\n",
    "        \n",
    "        f.write(json.dumps(entry) + \"\\n\")\n",
    "        f.flush()  # Ensures that the content is written to disk immediately\n",
    "        \n",
    "        print(f'Query number: {i} ended')"
   ]
  },
  {
   "cell_type": "markdown",
   "id": "599ab23d",
   "metadata": {},
   "source": [
    "# Evaluating the results"
   ]
  },
  {
   "cell_type": "code",
   "execution_count": 31,
   "id": "1da541f7",
   "metadata": {},
   "outputs": [],
   "source": [
    "import re\n",
    "\n",
    "def clean_trace(line):\n",
    "    pattern = r\"\\b(the|block|from|on|top|of)\\b\"\n",
    "    cleaned = re.sub(pattern, \"\", line)\n",
    "    cleaned = \" \".join(cleaned.split())\n",
    "    \n",
    "    return cleaned"
   ]
  },
  {
   "cell_type": "code",
   "execution_count": null,
   "id": "e4b10b5e",
   "metadata": {},
   "outputs": [
    {
     "data": {
      "text/plain": [
       "{'trace': ['unstack the yellow block from on top of the orange block',\n",
       "  'put down the yellow block',\n",
       "  'pick up the orange block',\n",
       "  'stack the orange block on top of the red block'],\n",
       " 'ground_truth': ['unstack yellow orange',\n",
       "  'put down yellow',\n",
       "  'pick up orange',\n",
       "  'stack orange red']}"
      ]
     },
     "execution_count": 30,
     "metadata": {},
     "output_type": "execute_result"
    }
   ],
   "source": [
    "import json\n",
    "\n",
    "with open('./rap-llama-results.jsonl', 'r') as F:\n",
    "    lines = F.readlines()\n",
    "    results = [json.loads(result) for result in lines]  \n",
    "    \n",
    "results[0]"
   ]
  },
  {
   "cell_type": "markdown",
   "id": "3c634a74",
   "metadata": {},
   "source": [
    "# Check Match Exact Accuracy"
   ]
  },
  {
   "cell_type": "code",
   "execution_count": 32,
   "id": "c48c43d3",
   "metadata": {},
   "outputs": [],
   "source": [
    "exact_matches = []\n",
    "\n",
    "for result in results:\n",
    "    trace = result['trace']\n",
    "    ground_truth = result['ground_truth']\n",
    "    \n",
    "    if trace[0]=='Error':\n",
    "        exact_matches.append(0)\n",
    "        continue\n",
    "    \n",
    "    if len(trace)!=len(ground_truth):\n",
    "        exact_matches.append(0)\n",
    "        continue\n",
    "    \n",
    "    flag = True\n",
    "    for step_trace, step_gt in zip(trace, ground_truth):\n",
    "        if clean_trace(step_trace)!=step_gt:\n",
    "            exact_matches.append(0)\n",
    "            flag = False\n",
    "            break\n",
    "    \n",
    "    if flag:\n",
    "        exact_matches.append(1)\n",
    "    "
   ]
  },
  {
   "cell_type": "code",
   "execution_count": 38,
   "id": "acc3890f",
   "metadata": {},
   "outputs": [
    {
     "data": {
      "text/plain": [
       "10.6"
      ]
     },
     "execution_count": 38,
     "metadata": {},
     "output_type": "execute_result"
    }
   ],
   "source": [
    "accuracy = sum(exact_matches)/len(exact_matches)\n",
    "accuracy*100"
   ]
  }
 ],
 "metadata": {
  "kernelspec": {
   "display_name": "reasoners",
   "language": "python",
   "name": "python3"
  },
  "language_info": {
   "codemirror_mode": {
    "name": "ipython",
    "version": 3
   },
   "file_extension": ".py",
   "mimetype": "text/x-python",
   "name": "python",
   "nbconvert_exporter": "python",
   "pygments_lexer": "ipython3",
   "version": "3.10.15"
  }
 },
 "nbformat": 4,
 "nbformat_minor": 5
}
